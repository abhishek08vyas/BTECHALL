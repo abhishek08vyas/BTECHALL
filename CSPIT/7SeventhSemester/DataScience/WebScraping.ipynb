{
 "cells": [
  {
   "cell_type": "markdown",
   "metadata": {
    "colab_type": "text",
    "id": "_wjuaQxWJ66z"
   },
   "source": [
    "# 16IT135 &emsp; &emsp;  &emsp;  &emsp;  &emsp;  &emsp;    IT441: Data Science"
   ]
  },
  {
   "cell_type": "markdown",
   "metadata": {
    "colab_type": "text",
    "id": "OL_TTg2c0TUB"
   },
   "source": [
    "## **Practical 1 : Data Scraping using Python**"
   ]
  },
  {
   "cell_type": "markdown",
   "metadata": {
    "colab_type": "text",
    "id": "GbWNvlnvLYrw"
   },
   "source": [
    "## **Theory :**\n",
    "\n",
    "> There are several ways to extract information from the web. Use of APIs being probably the best way to extract data from a website. Almost all large websites like Twitter, Facebook, Google, Twitter, StackOverflow provide APIs to access their data in a more structured manner. If you can get what you need through an API, it is almost always preferred approach over web scraping. Sadly, not all websites provide an API. Some do it because they do not want the readers to extract huge information in a structured way, while others don’t provide APIs due to lack of technical knowledge. What do you do in these cases? Well, we need to scrape the website to fetch the information.\n",
    "\n",
    "**What is Web Scraping?**\n",
    "\n",
    "> Web scraping is a computer software technique of extracting information from websites. This technique mostly focuses on the transformation of unstructured data (HTML format) on the web into structured data (database or spreadsheet).\n",
    "\n",
    "**Libraries required for Web Scraping**\n",
    "\n",
    "\n",
    "> *   **Urllib2:** It is a Python module which can be used for fetching URLs.\n",
    "*   **BeautifulSoup:** It is an incredible tool for pulling out information from a webpage. You can use it to extract tables, lists, paragraph and you can also put filters to extract information from web pages. \n",
    "\n",
    "\n",
    "\n",
    "\n",
    "\n"
   ]
  },
  {
   "cell_type": "code",
   "execution_count": 0,
   "metadata": {
    "colab": {},
    "colab_type": "code",
    "id": "W1ouGaQohdWt"
   },
   "outputs": [],
   "source": [
    "#To import necessary libraries\n",
    "import pandas as pd\n",
    "import numpy as np\n",
    "import matplotlib.pyplot as plt\n",
    "import seaborn as sns\n",
    "%matplotlib inline"
   ]
  },
  {
   "cell_type": "code",
   "execution_count": 0,
   "metadata": {
    "colab": {},
    "colab_type": "code",
    "id": "V3T_IYqchpHX"
   },
   "outputs": [],
   "source": [
    "#The urllib.request module is used to open URLs.\n",
    "from urllib.request import urlopen\n",
    "\n",
    "#The Beautiful Soup package is used to extract data from html files.The Beautiful Soup library's name is bs4 which stands for Beautiful Soup, version 4.\n",
    "from bs4 import BeautifulSoup"
   ]
  },
  {
   "cell_type": "code",
   "execution_count": 0,
   "metadata": {
    "colab": {},
    "colab_type": "code",
    "id": "tyeAdgKUiSAx"
   },
   "outputs": [],
   "source": [
    "#urlopen() is used to get the html of the page.\n",
    "url = \"https://www.hubertiming.com/results/2015TWH\"\n",
    "html = urlopen(url)"
   ]
  },
  {
   "cell_type": "code",
   "execution_count": 0,
   "metadata": {
    "colab": {
     "base_uri": "https://localhost:8080/",
     "height": 34
    },
    "colab_type": "code",
    "id": "0Quivph0ivEb",
    "outputId": "766cd653-6d28-43de-bf74-c3eb91a78bcb"
   },
   "outputs": [
    {
     "data": {
      "text/plain": [
       "bs4.BeautifulSoup"
      ]
     },
     "execution_count": 4,
     "metadata": {
      "tags": []
     },
     "output_type": "execute_result"
    }
   ],
   "source": [
    "#The Beautiful Soup package is used to parse the html, that is, take the raw html text and break it into Python objects. \n",
    "soup = BeautifulSoup(html, 'lxml')\n",
    "type(soup)"
   ]
  },
  {
   "cell_type": "code",
   "execution_count": 0,
   "metadata": {
    "colab": {
     "base_uri": "https://localhost:8080/",
     "height": 34
    },
    "colab_type": "code",
    "id": "UTSPWSTsjSgy",
    "outputId": "17e2fe61-78c8-47dd-a90e-aed15593bd88"
   },
   "outputs": [
    {
     "name": "stdout",
     "output_type": "stream",
     "text": [
      "<title>2015 Twilight Half Marathon Race Results</title>\n"
     ]
    }
   ],
   "source": [
    "# To print the title of the website\n",
    "title = soup.title\n",
    "print(title)"
   ]
  },
  {
   "cell_type": "code",
   "execution_count": 0,
   "metadata": {
    "colab": {},
    "colab_type": "code",
    "id": "og-26UGOjbSc"
   },
   "outputs": [],
   "source": [
    "# Print out the text of the webpage\n",
    "text = soup.get_text()\n",
    "#print(soup.text)"
   ]
  },
  {
   "cell_type": "code",
   "execution_count": 0,
   "metadata": {
    "colab": {
     "base_uri": "https://localhost:8080/",
     "height": 170
    },
    "colab_type": "code",
    "id": "Br9kC3A5jl_t",
    "outputId": "c4264f0c-a017-43b8-ff80-630fb42a499d"
   },
   "outputs": [
    {
     "name": "stdout",
     "output_type": "stream",
     "text": [
      "mailto:timing@hubertiming.com\n",
      "https://www.hubertiming.com/\n",
      "/results/2015TWH10K\n",
      "/results/2015TWH5K\n",
      "/results/summary/2015TWH\n",
      "#tabs-1\n",
      "None\n",
      "https://www.hubertiming.com/\n",
      "https://facebook.com/hubertiming/\n"
     ]
    }
   ],
   "source": [
    "#To print all the links of the webpage\n",
    "all_links = soup.find_all(\"a\")\n",
    "for link in all_links:\n",
    "    print(link.get(\"href\"))"
   ]
  },
  {
   "cell_type": "code",
   "execution_count": 0,
   "metadata": {
    "colab": {
     "base_uri": "https://localhost:8080/",
     "height": 289
    },
    "colab_type": "code",
    "id": "iwoRuiaCp3QY",
    "outputId": "ce96bb83-50bb-4ae6-8164-5796769e89ae"
   },
   "outputs": [
    {
     "name": "stdout",
     "output_type": "stream",
     "text": [
      "[<tr colspan=\"2\"><b>Half Marathon:</b></tr>, <tr><td>Finishers:</td><td>334</td></tr>, <tr><td>Male:</td><td>118</td></tr>, <tr><td>Female:</td><td>216</td></tr>, <tr class=\"header\">\n",
      "<th>Place</th>\n",
      "<th>Bib</th>\n",
      "<th>Name</th>\n",
      "<th>Gender</th>\n",
      "<th>Age</th>\n",
      "<th>City</th>\n",
      "<th>State</th>\n",
      "<th>Chip Time</th>\n",
      "<th>Chip Pace</th>\n",
      "<th>Gender Place</th>\n",
      "<th>Age Group</th>\n",
      "<th>Age Group Place</th>\n",
      "<th>Time to Start</th>\n",
      "<th>Gun Time</th>\n",
      "</tr>]\n"
     ]
    }
   ],
   "source": [
    "# Print the first 5 rows\n",
    "rows = soup.find_all('tr')\n",
    "print(rows[:5])"
   ]
  },
  {
   "cell_type": "code",
   "execution_count": 0,
   "metadata": {
    "colab": {
     "base_uri": "https://localhost:8080/",
     "height": 71
    },
    "colab_type": "code",
    "id": "FEf5SCLfqZbp",
    "outputId": "686204b9-8297-4461-aedc-aad7167ae888"
   },
   "outputs": [
    {
     "name": "stdout",
     "output_type": "stream",
     "text": [
      "[<td>334</td>, <td>290</td>, <td>LEAH SCOTT</td>, <td>F</td>, <td>38</td>, <td>VANCOUVER</td>, <td>WA</td>, <td>3:57:15</td>, <td>18:06</td>, <td>216 of 216</td>, <td>F 35-39</td>, <td>36 of 36</td>, <td>0:41</td>, <td>3:57:56</td>]\n"
     ]
    },
    {
     "data": {
      "text/plain": [
       "bs4.element.ResultSet"
      ]
     },
     "execution_count": 9,
     "metadata": {
      "tags": []
     },
     "output_type": "execute_result"
    }
   ],
   "source": [
    "#To print table data \n",
    "for row in rows:\n",
    "    row_td = row.find_all('td')\n",
    "print(row_td)\n",
    "type(row_td)"
   ]
  },
  {
   "cell_type": "code",
   "execution_count": 0,
   "metadata": {
    "colab": {
     "base_uri": "https://localhost:8080/",
     "height": 34
    },
    "colab_type": "code",
    "id": "m8xHR9ZgrKp2",
    "outputId": "3c857445-5838-4c9e-e18e-6226f0ae6587"
   },
   "outputs": [
    {
     "name": "stdout",
     "output_type": "stream",
     "text": [
      "[334, 290, LEAH SCOTT, F, 38, VANCOUVER, WA, 3:57:15, 18:06, 216 of 216, F 35-39, 36 of 36, 0:41, 3:57:56]\n"
     ]
    }
   ],
   "source": [
    "# The get_text() method is used to extract the text without html tags.\n",
    "str_cells = str(row_td)\n",
    "cleantext = BeautifulSoup(str_cells, \"lxml\").get_text()\n",
    "print(cleantext)"
   ]
  },
  {
   "cell_type": "code",
   "execution_count": 0,
   "metadata": {
    "colab": {
     "base_uri": "https://localhost:8080/",
     "height": 51
    },
    "colab_type": "code",
    "id": "maIpDEzurh7B",
    "outputId": "c820971f-3cb9-449f-8280-bdd2266264b3"
   },
   "outputs": [
    {
     "name": "stdout",
     "output_type": "stream",
     "text": [
      "[334, 290, LEAH SCOTT, F, 38, VANCOUVER, WA, 3:57:15, 18:06, 216 of 216, F 35-39, 36 of 36, 0:41, 3:57:56]\n"
     ]
    },
    {
     "data": {
      "text/plain": [
       "str"
      ]
     },
     "execution_count": 11,
     "metadata": {
      "tags": []
     },
     "output_type": "execute_result"
    }
   ],
   "source": [
    "#The code below shows how to build a regular expression that finds all the characters inside the < td > html tags and replace them with an empty string for each table row.\n",
    "# The full code below generates an empty list, extract text in between html tags for each row, and append it to the assigned list.\n",
    "import re\n",
    "\n",
    "list_rows = []\n",
    "for row in rows:\n",
    "    cells = row.find_all('td')\n",
    "    str_cells = str(cells)\n",
    "    clean = re.compile('<.*?>') # compile a regular expression by passing a string to match to re.compile().\n",
    "    clean2 = (re.sub(clean, '',str_cells)) # The re.sub() method to find all the substrings where the regular expression matches and replace them with an empty string.\n",
    "    list_rows.append(clean2)\n",
    "print(clean2)\n",
    "type(clean2)"
   ]
  },
  {
   "cell_type": "code",
   "execution_count": 0,
   "metadata": {
    "colab": {
     "base_uri": "https://localhost:8080/",
     "height": 359
    },
    "colab_type": "code",
    "id": "LDWpWSqFroAm",
    "outputId": "e7111b64-71b1-4123-b4be-a24e5c419ac0"
   },
   "outputs": [
    {
     "data": {
      "text/html": [
       "<div>\n",
       "<style scoped>\n",
       "    .dataframe tbody tr th:only-of-type {\n",
       "        vertical-align: middle;\n",
       "    }\n",
       "\n",
       "    .dataframe tbody tr th {\n",
       "        vertical-align: top;\n",
       "    }\n",
       "\n",
       "    .dataframe thead th {\n",
       "        text-align: right;\n",
       "    }\n",
       "</style>\n",
       "<table border=\"1\" class=\"dataframe\">\n",
       "  <thead>\n",
       "    <tr style=\"text-align: right;\">\n",
       "      <th></th>\n",
       "      <th>0</th>\n",
       "    </tr>\n",
       "  </thead>\n",
       "  <tbody>\n",
       "    <tr>\n",
       "      <th>0</th>\n",
       "      <td>[]</td>\n",
       "    </tr>\n",
       "    <tr>\n",
       "      <th>1</th>\n",
       "      <td>[Finishers:, 334]</td>\n",
       "    </tr>\n",
       "    <tr>\n",
       "      <th>2</th>\n",
       "      <td>[Male:, 118]</td>\n",
       "    </tr>\n",
       "    <tr>\n",
       "      <th>3</th>\n",
       "      <td>[Female:, 216]</td>\n",
       "    </tr>\n",
       "    <tr>\n",
       "      <th>4</th>\n",
       "      <td>[]</td>\n",
       "    </tr>\n",
       "    <tr>\n",
       "      <th>5</th>\n",
       "      <td>[1, 281, TRAVIS MITCHELL, M, 26, PORTLAND, OR,...</td>\n",
       "    </tr>\n",
       "    <tr>\n",
       "      <th>6</th>\n",
       "      <td>[2, 203, MARK BOWLES, M, 36, NEW YORK, NY, 1:2...</td>\n",
       "    </tr>\n",
       "    <tr>\n",
       "      <th>7</th>\n",
       "      <td>[3, 47, MICHAEL ALLEN, M, 42, HILLSBORO, OR, 1...</td>\n",
       "    </tr>\n",
       "    <tr>\n",
       "      <th>8</th>\n",
       "      <td>[4, 168, WESLEY CHAN, M, 24, PORTLAND, OR, 1:3...</td>\n",
       "    </tr>\n",
       "    <tr>\n",
       "      <th>9</th>\n",
       "      <td>[5, 381, STEVEN AMBO, M, 24, PORTLAND, OR, 1:3...</td>\n",
       "    </tr>\n",
       "  </tbody>\n",
       "</table>\n",
       "</div>"
      ],
      "text/plain": [
       "                                                   0\n",
       "0                                                 []\n",
       "1                                  [Finishers:, 334]\n",
       "2                                       [Male:, 118]\n",
       "3                                     [Female:, 216]\n",
       "4                                                 []\n",
       "5  [1, 281, TRAVIS MITCHELL, M, 26, PORTLAND, OR,...\n",
       "6  [2, 203, MARK BOWLES, M, 36, NEW YORK, NY, 1:2...\n",
       "7  [3, 47, MICHAEL ALLEN, M, 42, HILLSBORO, OR, 1...\n",
       "8  [4, 168, WESLEY CHAN, M, 24, PORTLAND, OR, 1:3...\n",
       "9  [5, 381, STEVEN AMBO, M, 24, PORTLAND, OR, 1:3..."
      ]
     },
     "execution_count": 12,
     "metadata": {
      "tags": []
     },
     "output_type": "execute_result"
    }
   ],
   "source": [
    "# To convert the list into a dataframe and get a quick view of the first 10 rows using Pandas.\n",
    "df = pd.DataFrame(list_rows)\n",
    "df.head(10)"
   ]
  },
  {
   "cell_type": "code",
   "execution_count": 0,
   "metadata": {
    "colab": {
     "base_uri": "https://localhost:8080/",
     "height": 359
    },
    "colab_type": "code",
    "id": "uvht3msBrryq",
    "outputId": "57bb041c-f609-4ad1-8320-22f6b8c4d226"
   },
   "outputs": [
    {
     "data": {
      "text/html": [
       "<div>\n",
       "<style scoped>\n",
       "    .dataframe tbody tr th:only-of-type {\n",
       "        vertical-align: middle;\n",
       "    }\n",
       "\n",
       "    .dataframe tbody tr th {\n",
       "        vertical-align: top;\n",
       "    }\n",
       "\n",
       "    .dataframe thead th {\n",
       "        text-align: right;\n",
       "    }\n",
       "</style>\n",
       "<table border=\"1\" class=\"dataframe\">\n",
       "  <thead>\n",
       "    <tr style=\"text-align: right;\">\n",
       "      <th></th>\n",
       "      <th>0</th>\n",
       "      <th>1</th>\n",
       "      <th>2</th>\n",
       "      <th>3</th>\n",
       "      <th>4</th>\n",
       "      <th>5</th>\n",
       "      <th>6</th>\n",
       "      <th>7</th>\n",
       "      <th>8</th>\n",
       "      <th>9</th>\n",
       "      <th>10</th>\n",
       "      <th>11</th>\n",
       "      <th>12</th>\n",
       "      <th>13</th>\n",
       "    </tr>\n",
       "  </thead>\n",
       "  <tbody>\n",
       "    <tr>\n",
       "      <th>0</th>\n",
       "      <td>[]</td>\n",
       "      <td>None</td>\n",
       "      <td>None</td>\n",
       "      <td>None</td>\n",
       "      <td>None</td>\n",
       "      <td>None</td>\n",
       "      <td>None</td>\n",
       "      <td>None</td>\n",
       "      <td>None</td>\n",
       "      <td>None</td>\n",
       "      <td>None</td>\n",
       "      <td>None</td>\n",
       "      <td>None</td>\n",
       "      <td>None</td>\n",
       "    </tr>\n",
       "    <tr>\n",
       "      <th>1</th>\n",
       "      <td>[Finishers:</td>\n",
       "      <td>334]</td>\n",
       "      <td>None</td>\n",
       "      <td>None</td>\n",
       "      <td>None</td>\n",
       "      <td>None</td>\n",
       "      <td>None</td>\n",
       "      <td>None</td>\n",
       "      <td>None</td>\n",
       "      <td>None</td>\n",
       "      <td>None</td>\n",
       "      <td>None</td>\n",
       "      <td>None</td>\n",
       "      <td>None</td>\n",
       "    </tr>\n",
       "    <tr>\n",
       "      <th>2</th>\n",
       "      <td>[Male:</td>\n",
       "      <td>118]</td>\n",
       "      <td>None</td>\n",
       "      <td>None</td>\n",
       "      <td>None</td>\n",
       "      <td>None</td>\n",
       "      <td>None</td>\n",
       "      <td>None</td>\n",
       "      <td>None</td>\n",
       "      <td>None</td>\n",
       "      <td>None</td>\n",
       "      <td>None</td>\n",
       "      <td>None</td>\n",
       "      <td>None</td>\n",
       "    </tr>\n",
       "    <tr>\n",
       "      <th>3</th>\n",
       "      <td>[Female:</td>\n",
       "      <td>216]</td>\n",
       "      <td>None</td>\n",
       "      <td>None</td>\n",
       "      <td>None</td>\n",
       "      <td>None</td>\n",
       "      <td>None</td>\n",
       "      <td>None</td>\n",
       "      <td>None</td>\n",
       "      <td>None</td>\n",
       "      <td>None</td>\n",
       "      <td>None</td>\n",
       "      <td>None</td>\n",
       "      <td>None</td>\n",
       "    </tr>\n",
       "    <tr>\n",
       "      <th>4</th>\n",
       "      <td>[]</td>\n",
       "      <td>None</td>\n",
       "      <td>None</td>\n",
       "      <td>None</td>\n",
       "      <td>None</td>\n",
       "      <td>None</td>\n",
       "      <td>None</td>\n",
       "      <td>None</td>\n",
       "      <td>None</td>\n",
       "      <td>None</td>\n",
       "      <td>None</td>\n",
       "      <td>None</td>\n",
       "      <td>None</td>\n",
       "      <td>None</td>\n",
       "    </tr>\n",
       "    <tr>\n",
       "      <th>5</th>\n",
       "      <td>[1</td>\n",
       "      <td>281</td>\n",
       "      <td>TRAVIS MITCHELL</td>\n",
       "      <td>M</td>\n",
       "      <td>26</td>\n",
       "      <td>PORTLAND</td>\n",
       "      <td>OR</td>\n",
       "      <td>1:20:09</td>\n",
       "      <td>6:07</td>\n",
       "      <td>1 of 118</td>\n",
       "      <td>M 25-29</td>\n",
       "      <td>1 of 17</td>\n",
       "      <td>0:02</td>\n",
       "      <td>1:20:11]</td>\n",
       "    </tr>\n",
       "    <tr>\n",
       "      <th>6</th>\n",
       "      <td>[2</td>\n",
       "      <td>203</td>\n",
       "      <td>MARK BOWLES</td>\n",
       "      <td>M</td>\n",
       "      <td>36</td>\n",
       "      <td>NEW YORK</td>\n",
       "      <td>NY</td>\n",
       "      <td>1:29:29</td>\n",
       "      <td>6:49</td>\n",
       "      <td>2 of 118</td>\n",
       "      <td>M 35-39</td>\n",
       "      <td>1 of 24</td>\n",
       "      <td>0:04</td>\n",
       "      <td>1:29:33]</td>\n",
       "    </tr>\n",
       "    <tr>\n",
       "      <th>7</th>\n",
       "      <td>[3</td>\n",
       "      <td>47</td>\n",
       "      <td>MICHAEL ALLEN</td>\n",
       "      <td>M</td>\n",
       "      <td>42</td>\n",
       "      <td>HILLSBORO</td>\n",
       "      <td>OR</td>\n",
       "      <td>1:30:53</td>\n",
       "      <td>6:56</td>\n",
       "      <td>3 of 118</td>\n",
       "      <td>M 40-44</td>\n",
       "      <td>1 of 14</td>\n",
       "      <td>0:02</td>\n",
       "      <td>1:30:55]</td>\n",
       "    </tr>\n",
       "    <tr>\n",
       "      <th>8</th>\n",
       "      <td>[4</td>\n",
       "      <td>168</td>\n",
       "      <td>WESLEY CHAN</td>\n",
       "      <td>M</td>\n",
       "      <td>24</td>\n",
       "      <td>PORTLAND</td>\n",
       "      <td>OR</td>\n",
       "      <td>1:32:53</td>\n",
       "      <td>7:05</td>\n",
       "      <td>4 of 118</td>\n",
       "      <td>M 20-24</td>\n",
       "      <td>1 of 6</td>\n",
       "      <td>0:06</td>\n",
       "      <td>1:32:59]</td>\n",
       "    </tr>\n",
       "    <tr>\n",
       "      <th>9</th>\n",
       "      <td>[5</td>\n",
       "      <td>381</td>\n",
       "      <td>STEVEN AMBO</td>\n",
       "      <td>M</td>\n",
       "      <td>24</td>\n",
       "      <td>PORTLAND</td>\n",
       "      <td>OR</td>\n",
       "      <td>1:33:37</td>\n",
       "      <td>7:08</td>\n",
       "      <td>5 of 118</td>\n",
       "      <td>M 20-24</td>\n",
       "      <td>2 of 6</td>\n",
       "      <td>0:06</td>\n",
       "      <td>1:33:43]</td>\n",
       "    </tr>\n",
       "  </tbody>\n",
       "</table>\n",
       "</div>"
      ],
      "text/plain": [
       "            0      1                 2   ...        11     12         13\n",
       "0           []   None              None  ...      None   None       None\n",
       "1  [Finishers:   334]              None  ...      None   None       None\n",
       "2       [Male:   118]              None  ...      None   None       None\n",
       "3     [Female:   216]              None  ...      None   None       None\n",
       "4           []   None              None  ...      None   None       None\n",
       "5           [1    281   TRAVIS MITCHELL  ...   1 of 17   0:02   1:20:11]\n",
       "6           [2    203       MARK BOWLES  ...   1 of 24   0:04   1:29:33]\n",
       "7           [3     47     MICHAEL ALLEN  ...   1 of 14   0:02   1:30:55]\n",
       "8           [4    168       WESLEY CHAN  ...    1 of 6   0:06   1:32:59]\n",
       "9           [5    381       STEVEN AMBO  ...    2 of 6   0:06   1:33:43]\n",
       "\n",
       "[10 rows x 14 columns]"
      ]
     },
     "execution_count": 13,
     "metadata": {
      "tags": []
     },
     "output_type": "execute_result"
    }
   ],
   "source": [
    "df1 = df[0].str.split(',', expand=True)\n",
    "df1.head(10)"
   ]
  },
  {
   "cell_type": "code",
   "execution_count": 0,
   "metadata": {
    "colab": {
     "base_uri": "https://localhost:8080/",
     "height": 359
    },
    "colab_type": "code",
    "id": "KamY92nTrxKT",
    "outputId": "11fa6b30-4e05-4647-8da8-99ffb5d7701c"
   },
   "outputs": [
    {
     "data": {
      "text/html": [
       "<div>\n",
       "<style scoped>\n",
       "    .dataframe tbody tr th:only-of-type {\n",
       "        vertical-align: middle;\n",
       "    }\n",
       "\n",
       "    .dataframe tbody tr th {\n",
       "        vertical-align: top;\n",
       "    }\n",
       "\n",
       "    .dataframe thead th {\n",
       "        text-align: right;\n",
       "    }\n",
       "</style>\n",
       "<table border=\"1\" class=\"dataframe\">\n",
       "  <thead>\n",
       "    <tr style=\"text-align: right;\">\n",
       "      <th></th>\n",
       "      <th>0</th>\n",
       "      <th>1</th>\n",
       "      <th>2</th>\n",
       "      <th>3</th>\n",
       "      <th>4</th>\n",
       "      <th>5</th>\n",
       "      <th>6</th>\n",
       "      <th>7</th>\n",
       "      <th>8</th>\n",
       "      <th>9</th>\n",
       "      <th>10</th>\n",
       "      <th>11</th>\n",
       "      <th>12</th>\n",
       "      <th>13</th>\n",
       "    </tr>\n",
       "  </thead>\n",
       "  <tbody>\n",
       "    <tr>\n",
       "      <th>0</th>\n",
       "      <td>]</td>\n",
       "      <td>None</td>\n",
       "      <td>None</td>\n",
       "      <td>None</td>\n",
       "      <td>None</td>\n",
       "      <td>None</td>\n",
       "      <td>None</td>\n",
       "      <td>None</td>\n",
       "      <td>None</td>\n",
       "      <td>None</td>\n",
       "      <td>None</td>\n",
       "      <td>None</td>\n",
       "      <td>None</td>\n",
       "      <td>None</td>\n",
       "    </tr>\n",
       "    <tr>\n",
       "      <th>1</th>\n",
       "      <td>Finishers:</td>\n",
       "      <td>334]</td>\n",
       "      <td>None</td>\n",
       "      <td>None</td>\n",
       "      <td>None</td>\n",
       "      <td>None</td>\n",
       "      <td>None</td>\n",
       "      <td>None</td>\n",
       "      <td>None</td>\n",
       "      <td>None</td>\n",
       "      <td>None</td>\n",
       "      <td>None</td>\n",
       "      <td>None</td>\n",
       "      <td>None</td>\n",
       "    </tr>\n",
       "    <tr>\n",
       "      <th>2</th>\n",
       "      <td>Male:</td>\n",
       "      <td>118]</td>\n",
       "      <td>None</td>\n",
       "      <td>None</td>\n",
       "      <td>None</td>\n",
       "      <td>None</td>\n",
       "      <td>None</td>\n",
       "      <td>None</td>\n",
       "      <td>None</td>\n",
       "      <td>None</td>\n",
       "      <td>None</td>\n",
       "      <td>None</td>\n",
       "      <td>None</td>\n",
       "      <td>None</td>\n",
       "    </tr>\n",
       "    <tr>\n",
       "      <th>3</th>\n",
       "      <td>Female:</td>\n",
       "      <td>216]</td>\n",
       "      <td>None</td>\n",
       "      <td>None</td>\n",
       "      <td>None</td>\n",
       "      <td>None</td>\n",
       "      <td>None</td>\n",
       "      <td>None</td>\n",
       "      <td>None</td>\n",
       "      <td>None</td>\n",
       "      <td>None</td>\n",
       "      <td>None</td>\n",
       "      <td>None</td>\n",
       "      <td>None</td>\n",
       "    </tr>\n",
       "    <tr>\n",
       "      <th>4</th>\n",
       "      <td>]</td>\n",
       "      <td>None</td>\n",
       "      <td>None</td>\n",
       "      <td>None</td>\n",
       "      <td>None</td>\n",
       "      <td>None</td>\n",
       "      <td>None</td>\n",
       "      <td>None</td>\n",
       "      <td>None</td>\n",
       "      <td>None</td>\n",
       "      <td>None</td>\n",
       "      <td>None</td>\n",
       "      <td>None</td>\n",
       "      <td>None</td>\n",
       "    </tr>\n",
       "    <tr>\n",
       "      <th>5</th>\n",
       "      <td>1</td>\n",
       "      <td>281</td>\n",
       "      <td>TRAVIS MITCHELL</td>\n",
       "      <td>M</td>\n",
       "      <td>26</td>\n",
       "      <td>PORTLAND</td>\n",
       "      <td>OR</td>\n",
       "      <td>1:20:09</td>\n",
       "      <td>6:07</td>\n",
       "      <td>1 of 118</td>\n",
       "      <td>M 25-29</td>\n",
       "      <td>1 of 17</td>\n",
       "      <td>0:02</td>\n",
       "      <td>1:20:11]</td>\n",
       "    </tr>\n",
       "    <tr>\n",
       "      <th>6</th>\n",
       "      <td>2</td>\n",
       "      <td>203</td>\n",
       "      <td>MARK BOWLES</td>\n",
       "      <td>M</td>\n",
       "      <td>36</td>\n",
       "      <td>NEW YORK</td>\n",
       "      <td>NY</td>\n",
       "      <td>1:29:29</td>\n",
       "      <td>6:49</td>\n",
       "      <td>2 of 118</td>\n",
       "      <td>M 35-39</td>\n",
       "      <td>1 of 24</td>\n",
       "      <td>0:04</td>\n",
       "      <td>1:29:33]</td>\n",
       "    </tr>\n",
       "    <tr>\n",
       "      <th>7</th>\n",
       "      <td>3</td>\n",
       "      <td>47</td>\n",
       "      <td>MICHAEL ALLEN</td>\n",
       "      <td>M</td>\n",
       "      <td>42</td>\n",
       "      <td>HILLSBORO</td>\n",
       "      <td>OR</td>\n",
       "      <td>1:30:53</td>\n",
       "      <td>6:56</td>\n",
       "      <td>3 of 118</td>\n",
       "      <td>M 40-44</td>\n",
       "      <td>1 of 14</td>\n",
       "      <td>0:02</td>\n",
       "      <td>1:30:55]</td>\n",
       "    </tr>\n",
       "    <tr>\n",
       "      <th>8</th>\n",
       "      <td>4</td>\n",
       "      <td>168</td>\n",
       "      <td>WESLEY CHAN</td>\n",
       "      <td>M</td>\n",
       "      <td>24</td>\n",
       "      <td>PORTLAND</td>\n",
       "      <td>OR</td>\n",
       "      <td>1:32:53</td>\n",
       "      <td>7:05</td>\n",
       "      <td>4 of 118</td>\n",
       "      <td>M 20-24</td>\n",
       "      <td>1 of 6</td>\n",
       "      <td>0:06</td>\n",
       "      <td>1:32:59]</td>\n",
       "    </tr>\n",
       "    <tr>\n",
       "      <th>9</th>\n",
       "      <td>5</td>\n",
       "      <td>381</td>\n",
       "      <td>STEVEN AMBO</td>\n",
       "      <td>M</td>\n",
       "      <td>24</td>\n",
       "      <td>PORTLAND</td>\n",
       "      <td>OR</td>\n",
       "      <td>1:33:37</td>\n",
       "      <td>7:08</td>\n",
       "      <td>5 of 118</td>\n",
       "      <td>M 20-24</td>\n",
       "      <td>2 of 6</td>\n",
       "      <td>0:06</td>\n",
       "      <td>1:33:43]</td>\n",
       "    </tr>\n",
       "  </tbody>\n",
       "</table>\n",
       "</div>"
      ],
      "text/plain": [
       "           0      1                 2   ...        11     12         13\n",
       "0           ]   None              None  ...      None   None       None\n",
       "1  Finishers:   334]              None  ...      None   None       None\n",
       "2       Male:   118]              None  ...      None   None       None\n",
       "3     Female:   216]              None  ...      None   None       None\n",
       "4           ]   None              None  ...      None   None       None\n",
       "5           1    281   TRAVIS MITCHELL  ...   1 of 17   0:02   1:20:11]\n",
       "6           2    203       MARK BOWLES  ...   1 of 24   0:04   1:29:33]\n",
       "7           3     47     MICHAEL ALLEN  ...   1 of 14   0:02   1:30:55]\n",
       "8           4    168       WESLEY CHAN  ...    1 of 6   0:06   1:32:59]\n",
       "9           5    381       STEVEN AMBO  ...    2 of 6   0:06   1:33:43]\n",
       "\n",
       "[10 rows x 14 columns]"
      ]
     },
     "execution_count": 14,
     "metadata": {
      "tags": []
     },
     "output_type": "execute_result"
    }
   ],
   "source": [
    "# You can use the strip() method to remove the opening square bracket on column \"0.\"\n",
    "df1[0] = df1[0].str.strip('[')\n",
    "df1.head(10)"
   ]
  },
  {
   "cell_type": "code",
   "execution_count": 0,
   "metadata": {
    "colab": {},
    "colab_type": "code",
    "id": "pG1jTkO-r-ab"
   },
   "outputs": [],
   "source": [
    "# The table is missing table headers. The find_all() method is used to get the table headers.\n",
    "col_labels = soup.find_all('th')"
   ]
  },
  {
   "cell_type": "code",
   "execution_count": 0,
   "metadata": {
    "colab": {
     "base_uri": "https://localhost:8080/",
     "height": 34
    },
    "colab_type": "code",
    "id": "Ize3ihMisHeI",
    "outputId": "38d62925-a4b0-40b0-bec8-ec5f8893b9a7"
   },
   "outputs": [
    {
     "name": "stdout",
     "output_type": "stream",
     "text": [
      "['[Place, Bib, Name, Gender, Age, City, State, Chip Time, Chip Pace, Gender Place, Age Group, Age Group Place, Time to Start, Gun Time]']\n"
     ]
    }
   ],
   "source": [
    "all_header = []\n",
    "col_str = str(col_labels)\n",
    "cleantext2 = BeautifulSoup(col_str, \"lxml\").get_text()\n",
    "all_header.append(cleantext2)\n",
    "print(all_header)"
   ]
  },
  {
   "cell_type": "code",
   "execution_count": 0,
   "metadata": {
    "colab": {
     "base_uri": "https://localhost:8080/",
     "height": 80
    },
    "colab_type": "code",
    "id": "jumVFniOsLRP",
    "outputId": "ec9a00d7-8b81-4a3b-ca61-360465c85f38"
   },
   "outputs": [
    {
     "data": {
      "text/html": [
       "<div>\n",
       "<style scoped>\n",
       "    .dataframe tbody tr th:only-of-type {\n",
       "        vertical-align: middle;\n",
       "    }\n",
       "\n",
       "    .dataframe tbody tr th {\n",
       "        vertical-align: top;\n",
       "    }\n",
       "\n",
       "    .dataframe thead th {\n",
       "        text-align: right;\n",
       "    }\n",
       "</style>\n",
       "<table border=\"1\" class=\"dataframe\">\n",
       "  <thead>\n",
       "    <tr style=\"text-align: right;\">\n",
       "      <th></th>\n",
       "      <th>0</th>\n",
       "    </tr>\n",
       "  </thead>\n",
       "  <tbody>\n",
       "    <tr>\n",
       "      <th>0</th>\n",
       "      <td>[Place, Bib, Name, Gender, Age, City, State, C...</td>\n",
       "    </tr>\n",
       "  </tbody>\n",
       "</table>\n",
       "</div>"
      ],
      "text/plain": [
       "                                                   0\n",
       "0  [Place, Bib, Name, Gender, Age, City, State, C..."
      ]
     },
     "execution_count": 17,
     "metadata": {
      "tags": []
     },
     "output_type": "execute_result"
    }
   ],
   "source": [
    "# To convert list of headers to dataframe.\n",
    "df2 = pd.DataFrame(all_header)\n",
    "df2.head()"
   ]
  },
  {
   "cell_type": "code",
   "execution_count": 0,
   "metadata": {
    "colab": {
     "base_uri": "https://localhost:8080/",
     "height": 80
    },
    "colab_type": "code",
    "id": "diYd6afusP8q",
    "outputId": "f48ed412-7b85-4dae-cdbd-85d7d92d63af"
   },
   "outputs": [
    {
     "data": {
      "text/html": [
       "<div>\n",
       "<style scoped>\n",
       "    .dataframe tbody tr th:only-of-type {\n",
       "        vertical-align: middle;\n",
       "    }\n",
       "\n",
       "    .dataframe tbody tr th {\n",
       "        vertical-align: top;\n",
       "    }\n",
       "\n",
       "    .dataframe thead th {\n",
       "        text-align: right;\n",
       "    }\n",
       "</style>\n",
       "<table border=\"1\" class=\"dataframe\">\n",
       "  <thead>\n",
       "    <tr style=\"text-align: right;\">\n",
       "      <th></th>\n",
       "      <th>0</th>\n",
       "      <th>1</th>\n",
       "      <th>2</th>\n",
       "      <th>3</th>\n",
       "      <th>4</th>\n",
       "      <th>5</th>\n",
       "      <th>6</th>\n",
       "      <th>7</th>\n",
       "      <th>8</th>\n",
       "      <th>9</th>\n",
       "      <th>10</th>\n",
       "      <th>11</th>\n",
       "      <th>12</th>\n",
       "      <th>13</th>\n",
       "    </tr>\n",
       "  </thead>\n",
       "  <tbody>\n",
       "    <tr>\n",
       "      <th>0</th>\n",
       "      <td>[Place</td>\n",
       "      <td>Bib</td>\n",
       "      <td>Name</td>\n",
       "      <td>Gender</td>\n",
       "      <td>Age</td>\n",
       "      <td>City</td>\n",
       "      <td>State</td>\n",
       "      <td>Chip Time</td>\n",
       "      <td>Chip Pace</td>\n",
       "      <td>Gender Place</td>\n",
       "      <td>Age Group</td>\n",
       "      <td>Age Group Place</td>\n",
       "      <td>Time to Start</td>\n",
       "      <td>Gun Time]</td>\n",
       "    </tr>\n",
       "  </tbody>\n",
       "</table>\n",
       "</div>"
      ],
      "text/plain": [
       "       0     1      2   ...                11              12          13\n",
       "0  [Place   Bib   Name  ...   Age Group Place   Time to Start   Gun Time]\n",
       "\n",
       "[1 rows x 14 columns]"
      ]
     },
     "execution_count": 18,
     "metadata": {
      "tags": []
     },
     "output_type": "execute_result"
    }
   ],
   "source": [
    "# To split column \"0\" into multiple columns at the comma position for all rows.\n",
    "df3 = df2[0].str.split(',', expand=True)\n",
    "df3.head()"
   ]
  },
  {
   "cell_type": "code",
   "execution_count": 0,
   "metadata": {
    "colab": {
     "base_uri": "https://localhost:8080/",
     "height": 359
    },
    "colab_type": "code",
    "id": "v3UEWStUsTlD",
    "outputId": "04cbddea-7368-4df9-ba3e-19eef25d9344"
   },
   "outputs": [
    {
     "data": {
      "text/html": [
       "<div>\n",
       "<style scoped>\n",
       "    .dataframe tbody tr th:only-of-type {\n",
       "        vertical-align: middle;\n",
       "    }\n",
       "\n",
       "    .dataframe tbody tr th {\n",
       "        vertical-align: top;\n",
       "    }\n",
       "\n",
       "    .dataframe thead th {\n",
       "        text-align: right;\n",
       "    }\n",
       "</style>\n",
       "<table border=\"1\" class=\"dataframe\">\n",
       "  <thead>\n",
       "    <tr style=\"text-align: right;\">\n",
       "      <th></th>\n",
       "      <th>0</th>\n",
       "      <th>1</th>\n",
       "      <th>2</th>\n",
       "      <th>3</th>\n",
       "      <th>4</th>\n",
       "      <th>5</th>\n",
       "      <th>6</th>\n",
       "      <th>7</th>\n",
       "      <th>8</th>\n",
       "      <th>9</th>\n",
       "      <th>10</th>\n",
       "      <th>11</th>\n",
       "      <th>12</th>\n",
       "      <th>13</th>\n",
       "    </tr>\n",
       "  </thead>\n",
       "  <tbody>\n",
       "    <tr>\n",
       "      <th>0</th>\n",
       "      <td>[Place</td>\n",
       "      <td>Bib</td>\n",
       "      <td>Name</td>\n",
       "      <td>Gender</td>\n",
       "      <td>Age</td>\n",
       "      <td>City</td>\n",
       "      <td>State</td>\n",
       "      <td>Chip Time</td>\n",
       "      <td>Chip Pace</td>\n",
       "      <td>Gender Place</td>\n",
       "      <td>Age Group</td>\n",
       "      <td>Age Group Place</td>\n",
       "      <td>Time to Start</td>\n",
       "      <td>Gun Time]</td>\n",
       "    </tr>\n",
       "    <tr>\n",
       "      <th>0</th>\n",
       "      <td>]</td>\n",
       "      <td>None</td>\n",
       "      <td>None</td>\n",
       "      <td>None</td>\n",
       "      <td>None</td>\n",
       "      <td>None</td>\n",
       "      <td>None</td>\n",
       "      <td>None</td>\n",
       "      <td>None</td>\n",
       "      <td>None</td>\n",
       "      <td>None</td>\n",
       "      <td>None</td>\n",
       "      <td>None</td>\n",
       "      <td>None</td>\n",
       "    </tr>\n",
       "    <tr>\n",
       "      <th>1</th>\n",
       "      <td>Finishers:</td>\n",
       "      <td>334]</td>\n",
       "      <td>None</td>\n",
       "      <td>None</td>\n",
       "      <td>None</td>\n",
       "      <td>None</td>\n",
       "      <td>None</td>\n",
       "      <td>None</td>\n",
       "      <td>None</td>\n",
       "      <td>None</td>\n",
       "      <td>None</td>\n",
       "      <td>None</td>\n",
       "      <td>None</td>\n",
       "      <td>None</td>\n",
       "    </tr>\n",
       "    <tr>\n",
       "      <th>2</th>\n",
       "      <td>Male:</td>\n",
       "      <td>118]</td>\n",
       "      <td>None</td>\n",
       "      <td>None</td>\n",
       "      <td>None</td>\n",
       "      <td>None</td>\n",
       "      <td>None</td>\n",
       "      <td>None</td>\n",
       "      <td>None</td>\n",
       "      <td>None</td>\n",
       "      <td>None</td>\n",
       "      <td>None</td>\n",
       "      <td>None</td>\n",
       "      <td>None</td>\n",
       "    </tr>\n",
       "    <tr>\n",
       "      <th>3</th>\n",
       "      <td>Female:</td>\n",
       "      <td>216]</td>\n",
       "      <td>None</td>\n",
       "      <td>None</td>\n",
       "      <td>None</td>\n",
       "      <td>None</td>\n",
       "      <td>None</td>\n",
       "      <td>None</td>\n",
       "      <td>None</td>\n",
       "      <td>None</td>\n",
       "      <td>None</td>\n",
       "      <td>None</td>\n",
       "      <td>None</td>\n",
       "      <td>None</td>\n",
       "    </tr>\n",
       "    <tr>\n",
       "      <th>4</th>\n",
       "      <td>]</td>\n",
       "      <td>None</td>\n",
       "      <td>None</td>\n",
       "      <td>None</td>\n",
       "      <td>None</td>\n",
       "      <td>None</td>\n",
       "      <td>None</td>\n",
       "      <td>None</td>\n",
       "      <td>None</td>\n",
       "      <td>None</td>\n",
       "      <td>None</td>\n",
       "      <td>None</td>\n",
       "      <td>None</td>\n",
       "      <td>None</td>\n",
       "    </tr>\n",
       "    <tr>\n",
       "      <th>5</th>\n",
       "      <td>1</td>\n",
       "      <td>281</td>\n",
       "      <td>TRAVIS MITCHELL</td>\n",
       "      <td>M</td>\n",
       "      <td>26</td>\n",
       "      <td>PORTLAND</td>\n",
       "      <td>OR</td>\n",
       "      <td>1:20:09</td>\n",
       "      <td>6:07</td>\n",
       "      <td>1 of 118</td>\n",
       "      <td>M 25-29</td>\n",
       "      <td>1 of 17</td>\n",
       "      <td>0:02</td>\n",
       "      <td>1:20:11]</td>\n",
       "    </tr>\n",
       "    <tr>\n",
       "      <th>6</th>\n",
       "      <td>2</td>\n",
       "      <td>203</td>\n",
       "      <td>MARK BOWLES</td>\n",
       "      <td>M</td>\n",
       "      <td>36</td>\n",
       "      <td>NEW YORK</td>\n",
       "      <td>NY</td>\n",
       "      <td>1:29:29</td>\n",
       "      <td>6:49</td>\n",
       "      <td>2 of 118</td>\n",
       "      <td>M 35-39</td>\n",
       "      <td>1 of 24</td>\n",
       "      <td>0:04</td>\n",
       "      <td>1:29:33]</td>\n",
       "    </tr>\n",
       "    <tr>\n",
       "      <th>7</th>\n",
       "      <td>3</td>\n",
       "      <td>47</td>\n",
       "      <td>MICHAEL ALLEN</td>\n",
       "      <td>M</td>\n",
       "      <td>42</td>\n",
       "      <td>HILLSBORO</td>\n",
       "      <td>OR</td>\n",
       "      <td>1:30:53</td>\n",
       "      <td>6:56</td>\n",
       "      <td>3 of 118</td>\n",
       "      <td>M 40-44</td>\n",
       "      <td>1 of 14</td>\n",
       "      <td>0:02</td>\n",
       "      <td>1:30:55]</td>\n",
       "    </tr>\n",
       "    <tr>\n",
       "      <th>8</th>\n",
       "      <td>4</td>\n",
       "      <td>168</td>\n",
       "      <td>WESLEY CHAN</td>\n",
       "      <td>M</td>\n",
       "      <td>24</td>\n",
       "      <td>PORTLAND</td>\n",
       "      <td>OR</td>\n",
       "      <td>1:32:53</td>\n",
       "      <td>7:05</td>\n",
       "      <td>4 of 118</td>\n",
       "      <td>M 20-24</td>\n",
       "      <td>1 of 6</td>\n",
       "      <td>0:06</td>\n",
       "      <td>1:32:59]</td>\n",
       "    </tr>\n",
       "  </tbody>\n",
       "</table>\n",
       "</div>"
      ],
      "text/plain": [
       "           0      1   ...              12          13\n",
       "0      [Place    Bib  ...   Time to Start   Gun Time]\n",
       "0           ]   None  ...            None        None\n",
       "1  Finishers:   334]  ...            None        None\n",
       "2       Male:   118]  ...            None        None\n",
       "3     Female:   216]  ...            None        None\n",
       "4           ]   None  ...            None        None\n",
       "5           1    281  ...            0:02    1:20:11]\n",
       "6           2    203  ...            0:04    1:29:33]\n",
       "7           3     47  ...            0:02    1:30:55]\n",
       "8           4    168  ...            0:06    1:32:59]\n",
       "\n",
       "[10 rows x 14 columns]"
      ]
     },
     "execution_count": 19,
     "metadata": {
      "tags": []
     },
     "output_type": "execute_result"
    }
   ],
   "source": [
    "# The two dataframes can be concatenated into one using the concat() method\n",
    "frames = [df3, df1]\n",
    "\n",
    "df4 = pd.concat(frames)\n",
    "df4.head(10)"
   ]
  },
  {
   "cell_type": "code",
   "execution_count": 0,
   "metadata": {
    "colab": {
     "base_uri": "https://localhost:8080/",
     "height": 204
    },
    "colab_type": "code",
    "id": "FxQlTSx3sXSw",
    "outputId": "c2c32011-a0f8-4404-8965-55d7cf6f5940"
   },
   "outputs": [
    {
     "data": {
      "text/html": [
       "<div>\n",
       "<style scoped>\n",
       "    .dataframe tbody tr th:only-of-type {\n",
       "        vertical-align: middle;\n",
       "    }\n",
       "\n",
       "    .dataframe tbody tr th {\n",
       "        vertical-align: top;\n",
       "    }\n",
       "\n",
       "    .dataframe thead th {\n",
       "        text-align: right;\n",
       "    }\n",
       "</style>\n",
       "<table border=\"1\" class=\"dataframe\">\n",
       "  <thead>\n",
       "    <tr style=\"text-align: right;\">\n",
       "      <th></th>\n",
       "      <th>[Place</th>\n",
       "      <th>Bib</th>\n",
       "      <th>Name</th>\n",
       "      <th>Gender</th>\n",
       "      <th>Age</th>\n",
       "      <th>City</th>\n",
       "      <th>State</th>\n",
       "      <th>Chip Time</th>\n",
       "      <th>Chip Pace</th>\n",
       "      <th>Gender Place</th>\n",
       "      <th>Age Group</th>\n",
       "      <th>Age Group Place</th>\n",
       "      <th>Time to Start</th>\n",
       "      <th>Gun Time]</th>\n",
       "    </tr>\n",
       "  </thead>\n",
       "  <tbody>\n",
       "    <tr>\n",
       "      <th>0</th>\n",
       "      <td>[Place</td>\n",
       "      <td>Bib</td>\n",
       "      <td>Name</td>\n",
       "      <td>Gender</td>\n",
       "      <td>Age</td>\n",
       "      <td>City</td>\n",
       "      <td>State</td>\n",
       "      <td>Chip Time</td>\n",
       "      <td>Chip Pace</td>\n",
       "      <td>Gender Place</td>\n",
       "      <td>Age Group</td>\n",
       "      <td>Age Group Place</td>\n",
       "      <td>Time to Start</td>\n",
       "      <td>Gun Time]</td>\n",
       "    </tr>\n",
       "    <tr>\n",
       "      <th>0</th>\n",
       "      <td>]</td>\n",
       "      <td>None</td>\n",
       "      <td>None</td>\n",
       "      <td>None</td>\n",
       "      <td>None</td>\n",
       "      <td>None</td>\n",
       "      <td>None</td>\n",
       "      <td>None</td>\n",
       "      <td>None</td>\n",
       "      <td>None</td>\n",
       "      <td>None</td>\n",
       "      <td>None</td>\n",
       "      <td>None</td>\n",
       "      <td>None</td>\n",
       "    </tr>\n",
       "    <tr>\n",
       "      <th>1</th>\n",
       "      <td>Finishers:</td>\n",
       "      <td>334]</td>\n",
       "      <td>None</td>\n",
       "      <td>None</td>\n",
       "      <td>None</td>\n",
       "      <td>None</td>\n",
       "      <td>None</td>\n",
       "      <td>None</td>\n",
       "      <td>None</td>\n",
       "      <td>None</td>\n",
       "      <td>None</td>\n",
       "      <td>None</td>\n",
       "      <td>None</td>\n",
       "      <td>None</td>\n",
       "    </tr>\n",
       "    <tr>\n",
       "      <th>2</th>\n",
       "      <td>Male:</td>\n",
       "      <td>118]</td>\n",
       "      <td>None</td>\n",
       "      <td>None</td>\n",
       "      <td>None</td>\n",
       "      <td>None</td>\n",
       "      <td>None</td>\n",
       "      <td>None</td>\n",
       "      <td>None</td>\n",
       "      <td>None</td>\n",
       "      <td>None</td>\n",
       "      <td>None</td>\n",
       "      <td>None</td>\n",
       "      <td>None</td>\n",
       "    </tr>\n",
       "    <tr>\n",
       "      <th>3</th>\n",
       "      <td>Female:</td>\n",
       "      <td>216]</td>\n",
       "      <td>None</td>\n",
       "      <td>None</td>\n",
       "      <td>None</td>\n",
       "      <td>None</td>\n",
       "      <td>None</td>\n",
       "      <td>None</td>\n",
       "      <td>None</td>\n",
       "      <td>None</td>\n",
       "      <td>None</td>\n",
       "      <td>None</td>\n",
       "      <td>None</td>\n",
       "      <td>None</td>\n",
       "    </tr>\n",
       "  </tbody>\n",
       "</table>\n",
       "</div>"
      ],
      "text/plain": [
       "       [Place    Bib   Name  ...   Age Group Place   Time to Start   Gun Time]\n",
       "0      [Place    Bib   Name  ...   Age Group Place   Time to Start   Gun Time]\n",
       "0           ]   None   None  ...              None            None        None\n",
       "1  Finishers:   334]   None  ...              None            None        None\n",
       "2       Male:   118]   None  ...              None            None        None\n",
       "3     Female:   216]   None  ...              None            None        None\n",
       "\n",
       "[5 rows x 14 columns]"
      ]
     },
     "execution_count": 20,
     "metadata": {
      "tags": []
     },
     "output_type": "execute_result"
    }
   ],
   "source": [
    "# To assign the first row to be the table header.\n",
    "df5 = df4.rename(columns=df4.iloc[0])\n",
    "df5.head()"
   ]
  },
  {
   "cell_type": "code",
   "execution_count": 0,
   "metadata": {
    "colab": {
     "base_uri": "https://localhost:8080/",
     "height": 357
    },
    "colab_type": "code",
    "id": "hFe52JwHsjdS",
    "outputId": "5b5e41de-ed6f-4157-e4f1-dd7e1c96be85"
   },
   "outputs": [
    {
     "name": "stdout",
     "output_type": "stream",
     "text": [
      "<class 'pandas.core.frame.DataFrame'>\n",
      "Int64Index: 340 entries, 0 to 338\n",
      "Data columns (total 14 columns):\n",
      "[Place              340 non-null object\n",
      " Bib                338 non-null object\n",
      " Name               335 non-null object\n",
      " Gender             335 non-null object\n",
      " Age                335 non-null object\n",
      " City               335 non-null object\n",
      " State              335 non-null object\n",
      " Chip Time          335 non-null object\n",
      " Chip Pace          335 non-null object\n",
      " Gender Place       335 non-null object\n",
      " Age Group          335 non-null object\n",
      " Age Group Place    335 non-null object\n",
      " Time to Start      335 non-null object\n",
      " Gun Time]          335 non-null object\n",
      "dtypes: object(14)\n",
      "memory usage: 39.8+ KB\n"
     ]
    },
    {
     "data": {
      "text/plain": [
       "(340, 14)"
      ]
     },
     "execution_count": 21,
     "metadata": {
      "tags": []
     },
     "output_type": "execute_result"
    }
   ],
   "source": [
    "# To get the overview of the data\n",
    "df5.info()\n",
    "df5.shape"
   ]
  },
  {
   "cell_type": "code",
   "execution_count": 0,
   "metadata": {
    "colab": {},
    "colab_type": "code",
    "id": "dEIpsxkksqDp"
   },
   "outputs": [],
   "source": [
    "# To drop all rows with any missing values.\n",
    "df6 = df5.dropna(axis=0, how='any')"
   ]
  },
  {
   "cell_type": "code",
   "execution_count": 0,
   "metadata": {
    "colab": {
     "base_uri": "https://localhost:8080/",
     "height": 204
    },
    "colab_type": "code",
    "id": "9OCbpmgEsvbd",
    "outputId": "ca685bf1-43b9-4167-d0cf-61b7870151b5"
   },
   "outputs": [
    {
     "data": {
      "text/html": [
       "<div>\n",
       "<style scoped>\n",
       "    .dataframe tbody tr th:only-of-type {\n",
       "        vertical-align: middle;\n",
       "    }\n",
       "\n",
       "    .dataframe tbody tr th {\n",
       "        vertical-align: top;\n",
       "    }\n",
       "\n",
       "    .dataframe thead th {\n",
       "        text-align: right;\n",
       "    }\n",
       "</style>\n",
       "<table border=\"1\" class=\"dataframe\">\n",
       "  <thead>\n",
       "    <tr style=\"text-align: right;\">\n",
       "      <th></th>\n",
       "      <th>[Place</th>\n",
       "      <th>Bib</th>\n",
       "      <th>Name</th>\n",
       "      <th>Gender</th>\n",
       "      <th>Age</th>\n",
       "      <th>City</th>\n",
       "      <th>State</th>\n",
       "      <th>Chip Time</th>\n",
       "      <th>Chip Pace</th>\n",
       "      <th>Gender Place</th>\n",
       "      <th>Age Group</th>\n",
       "      <th>Age Group Place</th>\n",
       "      <th>Time to Start</th>\n",
       "      <th>Gun Time]</th>\n",
       "    </tr>\n",
       "  </thead>\n",
       "  <tbody>\n",
       "    <tr>\n",
       "      <th>5</th>\n",
       "      <td>1</td>\n",
       "      <td>281</td>\n",
       "      <td>TRAVIS MITCHELL</td>\n",
       "      <td>M</td>\n",
       "      <td>26</td>\n",
       "      <td>PORTLAND</td>\n",
       "      <td>OR</td>\n",
       "      <td>1:20:09</td>\n",
       "      <td>6:07</td>\n",
       "      <td>1 of 118</td>\n",
       "      <td>M 25-29</td>\n",
       "      <td>1 of 17</td>\n",
       "      <td>0:02</td>\n",
       "      <td>1:20:11]</td>\n",
       "    </tr>\n",
       "    <tr>\n",
       "      <th>6</th>\n",
       "      <td>2</td>\n",
       "      <td>203</td>\n",
       "      <td>MARK BOWLES</td>\n",
       "      <td>M</td>\n",
       "      <td>36</td>\n",
       "      <td>NEW YORK</td>\n",
       "      <td>NY</td>\n",
       "      <td>1:29:29</td>\n",
       "      <td>6:49</td>\n",
       "      <td>2 of 118</td>\n",
       "      <td>M 35-39</td>\n",
       "      <td>1 of 24</td>\n",
       "      <td>0:04</td>\n",
       "      <td>1:29:33]</td>\n",
       "    </tr>\n",
       "    <tr>\n",
       "      <th>7</th>\n",
       "      <td>3</td>\n",
       "      <td>47</td>\n",
       "      <td>MICHAEL ALLEN</td>\n",
       "      <td>M</td>\n",
       "      <td>42</td>\n",
       "      <td>HILLSBORO</td>\n",
       "      <td>OR</td>\n",
       "      <td>1:30:53</td>\n",
       "      <td>6:56</td>\n",
       "      <td>3 of 118</td>\n",
       "      <td>M 40-44</td>\n",
       "      <td>1 of 14</td>\n",
       "      <td>0:02</td>\n",
       "      <td>1:30:55]</td>\n",
       "    </tr>\n",
       "    <tr>\n",
       "      <th>8</th>\n",
       "      <td>4</td>\n",
       "      <td>168</td>\n",
       "      <td>WESLEY CHAN</td>\n",
       "      <td>M</td>\n",
       "      <td>24</td>\n",
       "      <td>PORTLAND</td>\n",
       "      <td>OR</td>\n",
       "      <td>1:32:53</td>\n",
       "      <td>7:05</td>\n",
       "      <td>4 of 118</td>\n",
       "      <td>M 20-24</td>\n",
       "      <td>1 of 6</td>\n",
       "      <td>0:06</td>\n",
       "      <td>1:32:59]</td>\n",
       "    </tr>\n",
       "    <tr>\n",
       "      <th>9</th>\n",
       "      <td>5</td>\n",
       "      <td>381</td>\n",
       "      <td>STEVEN AMBO</td>\n",
       "      <td>M</td>\n",
       "      <td>24</td>\n",
       "      <td>PORTLAND</td>\n",
       "      <td>OR</td>\n",
       "      <td>1:33:37</td>\n",
       "      <td>7:08</td>\n",
       "      <td>5 of 118</td>\n",
       "      <td>M 20-24</td>\n",
       "      <td>2 of 6</td>\n",
       "      <td>0:06</td>\n",
       "      <td>1:33:43]</td>\n",
       "    </tr>\n",
       "  </tbody>\n",
       "</table>\n",
       "</div>"
      ],
      "text/plain": [
       "  [Place   Bib              Name  ...  Age Group Place  Time to Start  Gun Time]\n",
       "5      1   281   TRAVIS MITCHELL  ...          1 of 17           0:02   1:20:11]\n",
       "6      2   203       MARK BOWLES  ...          1 of 24           0:04   1:29:33]\n",
       "7      3    47     MICHAEL ALLEN  ...          1 of 14           0:02   1:30:55]\n",
       "8      4   168       WESLEY CHAN  ...           1 of 6           0:06   1:32:59]\n",
       "9      5   381       STEVEN AMBO  ...           2 of 6           0:06   1:33:43]\n",
       "\n",
       "[5 rows x 14 columns]"
      ]
     },
     "execution_count": 23,
     "metadata": {
      "tags": []
     },
     "output_type": "execute_result"
    }
   ],
   "source": [
    "df7 = df6.drop(df6.index[0])\n",
    "df7.head()"
   ]
  },
  {
   "cell_type": "code",
   "execution_count": 0,
   "metadata": {
    "colab": {
     "base_uri": "https://localhost:8080/",
     "height": 204
    },
    "colab_type": "code",
    "id": "LBkzh1TKySoA",
    "outputId": "c451aa8d-6e0a-4469-bbd7-a567812824ec"
   },
   "outputs": [
    {
     "data": {
      "text/html": [
       "<div>\n",
       "<style scoped>\n",
       "    .dataframe tbody tr th:only-of-type {\n",
       "        vertical-align: middle;\n",
       "    }\n",
       "\n",
       "    .dataframe tbody tr th {\n",
       "        vertical-align: top;\n",
       "    }\n",
       "\n",
       "    .dataframe thead th {\n",
       "        text-align: right;\n",
       "    }\n",
       "</style>\n",
       "<table border=\"1\" class=\"dataframe\">\n",
       "  <thead>\n",
       "    <tr style=\"text-align: right;\">\n",
       "      <th></th>\n",
       "      <th>Place</th>\n",
       "      <th>Bib</th>\n",
       "      <th>Name</th>\n",
       "      <th>Gender</th>\n",
       "      <th>Age</th>\n",
       "      <th>City</th>\n",
       "      <th>State</th>\n",
       "      <th>Chip Time</th>\n",
       "      <th>Chip Pace</th>\n",
       "      <th>Gender Place</th>\n",
       "      <th>Age Group</th>\n",
       "      <th>Age Group Place</th>\n",
       "      <th>Time to Start</th>\n",
       "      <th>Gun Time</th>\n",
       "    </tr>\n",
       "  </thead>\n",
       "  <tbody>\n",
       "    <tr>\n",
       "      <th>5</th>\n",
       "      <td>1</td>\n",
       "      <td>281</td>\n",
       "      <td>TRAVIS MITCHELL</td>\n",
       "      <td>M</td>\n",
       "      <td>26</td>\n",
       "      <td>PORTLAND</td>\n",
       "      <td>OR</td>\n",
       "      <td>1:20:09</td>\n",
       "      <td>6:07</td>\n",
       "      <td>1 of 118</td>\n",
       "      <td>M 25-29</td>\n",
       "      <td>1 of 17</td>\n",
       "      <td>0:02</td>\n",
       "      <td>1:20:11]</td>\n",
       "    </tr>\n",
       "    <tr>\n",
       "      <th>6</th>\n",
       "      <td>2</td>\n",
       "      <td>203</td>\n",
       "      <td>MARK BOWLES</td>\n",
       "      <td>M</td>\n",
       "      <td>36</td>\n",
       "      <td>NEW YORK</td>\n",
       "      <td>NY</td>\n",
       "      <td>1:29:29</td>\n",
       "      <td>6:49</td>\n",
       "      <td>2 of 118</td>\n",
       "      <td>M 35-39</td>\n",
       "      <td>1 of 24</td>\n",
       "      <td>0:04</td>\n",
       "      <td>1:29:33]</td>\n",
       "    </tr>\n",
       "    <tr>\n",
       "      <th>7</th>\n",
       "      <td>3</td>\n",
       "      <td>47</td>\n",
       "      <td>MICHAEL ALLEN</td>\n",
       "      <td>M</td>\n",
       "      <td>42</td>\n",
       "      <td>HILLSBORO</td>\n",
       "      <td>OR</td>\n",
       "      <td>1:30:53</td>\n",
       "      <td>6:56</td>\n",
       "      <td>3 of 118</td>\n",
       "      <td>M 40-44</td>\n",
       "      <td>1 of 14</td>\n",
       "      <td>0:02</td>\n",
       "      <td>1:30:55]</td>\n",
       "    </tr>\n",
       "    <tr>\n",
       "      <th>8</th>\n",
       "      <td>4</td>\n",
       "      <td>168</td>\n",
       "      <td>WESLEY CHAN</td>\n",
       "      <td>M</td>\n",
       "      <td>24</td>\n",
       "      <td>PORTLAND</td>\n",
       "      <td>OR</td>\n",
       "      <td>1:32:53</td>\n",
       "      <td>7:05</td>\n",
       "      <td>4 of 118</td>\n",
       "      <td>M 20-24</td>\n",
       "      <td>1 of 6</td>\n",
       "      <td>0:06</td>\n",
       "      <td>1:32:59]</td>\n",
       "    </tr>\n",
       "    <tr>\n",
       "      <th>9</th>\n",
       "      <td>5</td>\n",
       "      <td>381</td>\n",
       "      <td>STEVEN AMBO</td>\n",
       "      <td>M</td>\n",
       "      <td>24</td>\n",
       "      <td>PORTLAND</td>\n",
       "      <td>OR</td>\n",
       "      <td>1:33:37</td>\n",
       "      <td>7:08</td>\n",
       "      <td>5 of 118</td>\n",
       "      <td>M 20-24</td>\n",
       "      <td>2 of 6</td>\n",
       "      <td>0:06</td>\n",
       "      <td>1:33:43]</td>\n",
       "    </tr>\n",
       "  </tbody>\n",
       "</table>\n",
       "</div>"
      ],
      "text/plain": [
       "  Place   Bib              Name  ...  Age Group Place  Time to Start   Gun Time\n",
       "5     1   281   TRAVIS MITCHELL  ...          1 of 17           0:02   1:20:11]\n",
       "6     2   203       MARK BOWLES  ...          1 of 24           0:04   1:29:33]\n",
       "7     3    47     MICHAEL ALLEN  ...          1 of 14           0:02   1:30:55]\n",
       "8     4   168       WESLEY CHAN  ...           1 of 6           0:06   1:32:59]\n",
       "9     5   381       STEVEN AMBO  ...           2 of 6           0:06   1:33:43]\n",
       "\n",
       "[5 rows x 14 columns]"
      ]
     },
     "execution_count": 24,
     "metadata": {
      "tags": []
     },
     "output_type": "execute_result"
    }
   ],
   "source": [
    "# Data Cleaning\n",
    "df7.rename(columns={'[Place': 'Place'},inplace=True)\n",
    "df7.rename(columns={' Gun Time]': 'Gun Time'},inplace=True)\n",
    "df7.head()"
   ]
  },
  {
   "cell_type": "code",
   "execution_count": 0,
   "metadata": {
    "colab": {
     "base_uri": "https://localhost:8080/",
     "height": 204
    },
    "colab_type": "code",
    "id": "0Rju-P2RycLU",
    "outputId": "a55afd3d-47de-43da-ce8f-3683c77c285a"
   },
   "outputs": [
    {
     "data": {
      "text/html": [
       "<div>\n",
       "<style scoped>\n",
       "    .dataframe tbody tr th:only-of-type {\n",
       "        vertical-align: middle;\n",
       "    }\n",
       "\n",
       "    .dataframe tbody tr th {\n",
       "        vertical-align: top;\n",
       "    }\n",
       "\n",
       "    .dataframe thead th {\n",
       "        text-align: right;\n",
       "    }\n",
       "</style>\n",
       "<table border=\"1\" class=\"dataframe\">\n",
       "  <thead>\n",
       "    <tr style=\"text-align: right;\">\n",
       "      <th></th>\n",
       "      <th>Place</th>\n",
       "      <th>Bib</th>\n",
       "      <th>Name</th>\n",
       "      <th>Gender</th>\n",
       "      <th>Age</th>\n",
       "      <th>City</th>\n",
       "      <th>State</th>\n",
       "      <th>Chip Time</th>\n",
       "      <th>Chip Pace</th>\n",
       "      <th>Gender Place</th>\n",
       "      <th>Age Group</th>\n",
       "      <th>Age Group Place</th>\n",
       "      <th>Time to Start</th>\n",
       "      <th>Gun Time</th>\n",
       "    </tr>\n",
       "  </thead>\n",
       "  <tbody>\n",
       "    <tr>\n",
       "      <th>5</th>\n",
       "      <td>1</td>\n",
       "      <td>281</td>\n",
       "      <td>TRAVIS MITCHELL</td>\n",
       "      <td>M</td>\n",
       "      <td>26</td>\n",
       "      <td>PORTLAND</td>\n",
       "      <td>OR</td>\n",
       "      <td>1:20:09</td>\n",
       "      <td>6:07</td>\n",
       "      <td>1 of 118</td>\n",
       "      <td>M 25-29</td>\n",
       "      <td>1 of 17</td>\n",
       "      <td>0:02</td>\n",
       "      <td>1:20:11</td>\n",
       "    </tr>\n",
       "    <tr>\n",
       "      <th>6</th>\n",
       "      <td>2</td>\n",
       "      <td>203</td>\n",
       "      <td>MARK BOWLES</td>\n",
       "      <td>M</td>\n",
       "      <td>36</td>\n",
       "      <td>NEW YORK</td>\n",
       "      <td>NY</td>\n",
       "      <td>1:29:29</td>\n",
       "      <td>6:49</td>\n",
       "      <td>2 of 118</td>\n",
       "      <td>M 35-39</td>\n",
       "      <td>1 of 24</td>\n",
       "      <td>0:04</td>\n",
       "      <td>1:29:33</td>\n",
       "    </tr>\n",
       "    <tr>\n",
       "      <th>7</th>\n",
       "      <td>3</td>\n",
       "      <td>47</td>\n",
       "      <td>MICHAEL ALLEN</td>\n",
       "      <td>M</td>\n",
       "      <td>42</td>\n",
       "      <td>HILLSBORO</td>\n",
       "      <td>OR</td>\n",
       "      <td>1:30:53</td>\n",
       "      <td>6:56</td>\n",
       "      <td>3 of 118</td>\n",
       "      <td>M 40-44</td>\n",
       "      <td>1 of 14</td>\n",
       "      <td>0:02</td>\n",
       "      <td>1:30:55</td>\n",
       "    </tr>\n",
       "    <tr>\n",
       "      <th>8</th>\n",
       "      <td>4</td>\n",
       "      <td>168</td>\n",
       "      <td>WESLEY CHAN</td>\n",
       "      <td>M</td>\n",
       "      <td>24</td>\n",
       "      <td>PORTLAND</td>\n",
       "      <td>OR</td>\n",
       "      <td>1:32:53</td>\n",
       "      <td>7:05</td>\n",
       "      <td>4 of 118</td>\n",
       "      <td>M 20-24</td>\n",
       "      <td>1 of 6</td>\n",
       "      <td>0:06</td>\n",
       "      <td>1:32:59</td>\n",
       "    </tr>\n",
       "    <tr>\n",
       "      <th>9</th>\n",
       "      <td>5</td>\n",
       "      <td>381</td>\n",
       "      <td>STEVEN AMBO</td>\n",
       "      <td>M</td>\n",
       "      <td>24</td>\n",
       "      <td>PORTLAND</td>\n",
       "      <td>OR</td>\n",
       "      <td>1:33:37</td>\n",
       "      <td>7:08</td>\n",
       "      <td>5 of 118</td>\n",
       "      <td>M 20-24</td>\n",
       "      <td>2 of 6</td>\n",
       "      <td>0:06</td>\n",
       "      <td>1:33:43</td>\n",
       "    </tr>\n",
       "  </tbody>\n",
       "</table>\n",
       "</div>"
      ],
      "text/plain": [
       "  Place   Bib              Name  ...  Age Group Place  Time to Start  Gun Time\n",
       "5     1   281   TRAVIS MITCHELL  ...          1 of 17           0:02   1:20:11\n",
       "6     2   203       MARK BOWLES  ...          1 of 24           0:04   1:29:33\n",
       "7     3    47     MICHAEL ALLEN  ...          1 of 14           0:02   1:30:55\n",
       "8     4   168       WESLEY CHAN  ...           1 of 6           0:06   1:32:59\n",
       "9     5   381       STEVEN AMBO  ...           2 of 6           0:06   1:33:43\n",
       "\n",
       "[5 rows x 14 columns]"
      ]
     },
     "execution_count": 25,
     "metadata": {
      "tags": []
     },
     "output_type": "execute_result"
    }
   ],
   "source": [
    "# Data Cleaning\n",
    "df7['Gun Time'] = df7['Gun Time'].str.strip(']')\n",
    "df7.head()"
   ]
  },
  {
   "cell_type": "code",
   "execution_count": 0,
   "metadata": {
    "colab": {},
    "colab_type": "code",
    "id": "TEezjgH0yoQN"
   },
   "outputs": [],
   "source": [
    "time_list = df7[' Chip Time'].tolist()\n",
    "\n",
    "# You can use a for loop to convert 'Chip Time' to minutes\n",
    "\n",
    "time_mins = []\n",
    "for i in time_list:\n",
    "    h, m, s = i.split(':')\n",
    "    math = (int(h) * 3600 + int(m) * 60 + int(s))/60\n",
    "    time_mins.append(math)\n",
    "#print(time_mins)"
   ]
  },
  {
   "cell_type": "code",
   "execution_count": 0,
   "metadata": {
    "colab": {
     "base_uri": "https://localhost:8080/",
     "height": 204
    },
    "colab_type": "code",
    "id": "5G7gTGsvzOWc",
    "outputId": "2f5ff705-2319-49d4-85c1-522847eabed1"
   },
   "outputs": [
    {
     "data": {
      "text/html": [
       "<div>\n",
       "<style scoped>\n",
       "    .dataframe tbody tr th:only-of-type {\n",
       "        vertical-align: middle;\n",
       "    }\n",
       "\n",
       "    .dataframe tbody tr th {\n",
       "        vertical-align: top;\n",
       "    }\n",
       "\n",
       "    .dataframe thead th {\n",
       "        text-align: right;\n",
       "    }\n",
       "</style>\n",
       "<table border=\"1\" class=\"dataframe\">\n",
       "  <thead>\n",
       "    <tr style=\"text-align: right;\">\n",
       "      <th></th>\n",
       "      <th>Place</th>\n",
       "      <th>Bib</th>\n",
       "      <th>Name</th>\n",
       "      <th>Gender</th>\n",
       "      <th>Age</th>\n",
       "      <th>City</th>\n",
       "      <th>State</th>\n",
       "      <th>Chip Time</th>\n",
       "      <th>Chip Pace</th>\n",
       "      <th>Gender Place</th>\n",
       "      <th>Age Group</th>\n",
       "      <th>Age Group Place</th>\n",
       "      <th>Time to Start</th>\n",
       "      <th>Gun Time</th>\n",
       "      <th>Runner_mins</th>\n",
       "    </tr>\n",
       "  </thead>\n",
       "  <tbody>\n",
       "    <tr>\n",
       "      <th>5</th>\n",
       "      <td>1</td>\n",
       "      <td>281</td>\n",
       "      <td>TRAVIS MITCHELL</td>\n",
       "      <td>M</td>\n",
       "      <td>26</td>\n",
       "      <td>PORTLAND</td>\n",
       "      <td>OR</td>\n",
       "      <td>1:20:09</td>\n",
       "      <td>6:07</td>\n",
       "      <td>1 of 118</td>\n",
       "      <td>M 25-29</td>\n",
       "      <td>1 of 17</td>\n",
       "      <td>0:02</td>\n",
       "      <td>1:20:11</td>\n",
       "      <td>80.150000</td>\n",
       "    </tr>\n",
       "    <tr>\n",
       "      <th>6</th>\n",
       "      <td>2</td>\n",
       "      <td>203</td>\n",
       "      <td>MARK BOWLES</td>\n",
       "      <td>M</td>\n",
       "      <td>36</td>\n",
       "      <td>NEW YORK</td>\n",
       "      <td>NY</td>\n",
       "      <td>1:29:29</td>\n",
       "      <td>6:49</td>\n",
       "      <td>2 of 118</td>\n",
       "      <td>M 35-39</td>\n",
       "      <td>1 of 24</td>\n",
       "      <td>0:04</td>\n",
       "      <td>1:29:33</td>\n",
       "      <td>89.483333</td>\n",
       "    </tr>\n",
       "    <tr>\n",
       "      <th>7</th>\n",
       "      <td>3</td>\n",
       "      <td>47</td>\n",
       "      <td>MICHAEL ALLEN</td>\n",
       "      <td>M</td>\n",
       "      <td>42</td>\n",
       "      <td>HILLSBORO</td>\n",
       "      <td>OR</td>\n",
       "      <td>1:30:53</td>\n",
       "      <td>6:56</td>\n",
       "      <td>3 of 118</td>\n",
       "      <td>M 40-44</td>\n",
       "      <td>1 of 14</td>\n",
       "      <td>0:02</td>\n",
       "      <td>1:30:55</td>\n",
       "      <td>90.883333</td>\n",
       "    </tr>\n",
       "    <tr>\n",
       "      <th>8</th>\n",
       "      <td>4</td>\n",
       "      <td>168</td>\n",
       "      <td>WESLEY CHAN</td>\n",
       "      <td>M</td>\n",
       "      <td>24</td>\n",
       "      <td>PORTLAND</td>\n",
       "      <td>OR</td>\n",
       "      <td>1:32:53</td>\n",
       "      <td>7:05</td>\n",
       "      <td>4 of 118</td>\n",
       "      <td>M 20-24</td>\n",
       "      <td>1 of 6</td>\n",
       "      <td>0:06</td>\n",
       "      <td>1:32:59</td>\n",
       "      <td>92.883333</td>\n",
       "    </tr>\n",
       "    <tr>\n",
       "      <th>9</th>\n",
       "      <td>5</td>\n",
       "      <td>381</td>\n",
       "      <td>STEVEN AMBO</td>\n",
       "      <td>M</td>\n",
       "      <td>24</td>\n",
       "      <td>PORTLAND</td>\n",
       "      <td>OR</td>\n",
       "      <td>1:33:37</td>\n",
       "      <td>7:08</td>\n",
       "      <td>5 of 118</td>\n",
       "      <td>M 20-24</td>\n",
       "      <td>2 of 6</td>\n",
       "      <td>0:06</td>\n",
       "      <td>1:33:43</td>\n",
       "      <td>93.616667</td>\n",
       "    </tr>\n",
       "  </tbody>\n",
       "</table>\n",
       "</div>"
      ],
      "text/plain": [
       "  Place   Bib              Name  ...  Time to Start  Gun Time Runner_mins\n",
       "5     1   281   TRAVIS MITCHELL  ...           0:02   1:20:11   80.150000\n",
       "6     2   203       MARK BOWLES  ...           0:04   1:29:33   89.483333\n",
       "7     3    47     MICHAEL ALLEN  ...           0:02   1:30:55   90.883333\n",
       "8     4   168       WESLEY CHAN  ...           0:06   1:32:59   92.883333\n",
       "9     5   381       STEVEN AMBO  ...           0:06   1:33:43   93.616667\n",
       "\n",
       "[5 rows x 15 columns]"
      ]
     },
     "execution_count": 28,
     "metadata": {
      "tags": []
     },
     "output_type": "execute_result"
    }
   ],
   "source": [
    "# To convert the list back into a dataframe and make a new column (\"Runner_mins\") for runner chip times expressed in just minutes.\n",
    "df7['Runner_mins'] = time_mins\n",
    "df7.head()"
   ]
  },
  {
   "cell_type": "code",
   "execution_count": 0,
   "metadata": {
    "colab": {
     "base_uri": "https://localhost:8080/",
     "height": 297
    },
    "colab_type": "code",
    "id": "cIxq_KnQzg6m",
    "outputId": "c69e87b7-92c7-49b2-9013-c71aee27481e"
   },
   "outputs": [
    {
     "data": {
      "text/html": [
       "<div>\n",
       "<style scoped>\n",
       "    .dataframe tbody tr th:only-of-type {\n",
       "        vertical-align: middle;\n",
       "    }\n",
       "\n",
       "    .dataframe tbody tr th {\n",
       "        vertical-align: top;\n",
       "    }\n",
       "\n",
       "    .dataframe thead th {\n",
       "        text-align: right;\n",
       "    }\n",
       "</style>\n",
       "<table border=\"1\" class=\"dataframe\">\n",
       "  <thead>\n",
       "    <tr style=\"text-align: right;\">\n",
       "      <th></th>\n",
       "      <th>Runner_mins</th>\n",
       "    </tr>\n",
       "  </thead>\n",
       "  <tbody>\n",
       "    <tr>\n",
       "      <th>count</th>\n",
       "      <td>334.000000</td>\n",
       "    </tr>\n",
       "    <tr>\n",
       "      <th>mean</th>\n",
       "      <td>139.373703</td>\n",
       "    </tr>\n",
       "    <tr>\n",
       "      <th>std</th>\n",
       "      <td>26.741933</td>\n",
       "    </tr>\n",
       "    <tr>\n",
       "      <th>min</th>\n",
       "      <td>80.150000</td>\n",
       "    </tr>\n",
       "    <tr>\n",
       "      <th>25%</th>\n",
       "      <td>118.712500</td>\n",
       "    </tr>\n",
       "    <tr>\n",
       "      <th>50%</th>\n",
       "      <td>135.900000</td>\n",
       "    </tr>\n",
       "    <tr>\n",
       "      <th>75%</th>\n",
       "      <td>156.800000</td>\n",
       "    </tr>\n",
       "    <tr>\n",
       "      <th>max</th>\n",
       "      <td>237.250000</td>\n",
       "    </tr>\n",
       "  </tbody>\n",
       "</table>\n",
       "</div>"
      ],
      "text/plain": [
       "       Runner_mins\n",
       "count   334.000000\n",
       "mean    139.373703\n",
       "std      26.741933\n",
       "min      80.150000\n",
       "25%     118.712500\n",
       "50%     135.900000\n",
       "75%     156.800000\n",
       "max     237.250000"
      ]
     },
     "execution_count": 29,
     "metadata": {
      "tags": []
     },
     "output_type": "execute_result"
    }
   ],
   "source": [
    "# To calculate statistics for numeric columns only in the dataframe.\n",
    "df7.describe(include=[np.number])"
   ]
  },
  {
   "cell_type": "code",
   "execution_count": 0,
   "metadata": {
    "colab": {},
    "colab_type": "code",
    "id": "ibqYOk2SzoZd"
   },
   "outputs": [],
   "source": [
    "from pylab import rcParams\n",
    "rcParams['figure.figsize'] = 15, 5"
   ]
  },
  {
   "cell_type": "code",
   "execution_count": 0,
   "metadata": {
    "colab": {
     "base_uri": "https://localhost:8080/",
     "height": 357
    },
    "colab_type": "code",
    "id": "VzC9U9qDzqhI",
    "outputId": "da5c029f-8911-40a7-c296-a6f098b8a83b"
   },
   "outputs": [
    {
     "data": {
      "text/plain": [
       "([<matplotlib.axis.XTick at 0x7f7f848c3630>],\n",
       " <a list of 1 Text xticklabel objects>)"
      ]
     },
     "execution_count": 31,
     "metadata": {
      "tags": []
     },
     "output_type": "execute_result"
    },
    {
     "data": {
      "image/png": "[encoded data removed]",
      "text/plain": [
       "<Figure size 1080x360 with 1 Axes>"
      ]
     },
     "metadata": {
      "tags": []
     },
     "output_type": "display_data"
    }
   ],
   "source": [
    "df7.boxplot(column='Runner_mins')\n",
    "plt.grid(True, axis='y')\n",
    "plt.ylabel('Chip Time')\n",
    "plt.xticks([1], ['Runners'])"
   ]
  },
  {
   "cell_type": "code",
   "execution_count": 0,
   "metadata": {
    "colab": {
     "base_uri": "https://localhost:8080/",
     "height": 338
    },
    "colab_type": "code",
    "id": "WGt5uxcQzvb4",
    "outputId": "d42fa247-cd3c-441d-e6d4-4b931b1b1a2b"
   },
   "outputs": [
    {
     "data": {
      "image/png": "[encoded data removed]",
      "text/plain": [
       "<Figure size 1080x360 with 1 Axes>"
      ]
     },
     "metadata": {
      "tags": []
     },
     "output_type": "display_data"
    }
   ],
   "source": [
    "# A distribution plot of runners' chip times plotted using the seaborn library\n",
    "x = df7['Runner_mins']\n",
    "ax = sns.distplot(x, hist=True, kde=True, rug=False, color='m', bins=25, hist_kws={'edgecolor':'black'})\n",
    "plt.show()"
   ]
  },
  {
   "cell_type": "code",
   "execution_count": 0,
   "metadata": {
    "colab": {
     "base_uri": "https://localhost:8080/",
     "height": 355
    },
    "colab_type": "code",
    "id": "cfs2Urpzz2W6",
    "outputId": "d9bd0b59-1bea-4ad1-a478-ad4d0b024ee1"
   },
   "outputs": [
    {
     "data": {
      "text/plain": [
       "<matplotlib.legend.Legend at 0x7f7f81e5eef0>"
      ]
     },
     "execution_count": 33,
     "metadata": {
      "tags": []
     },
     "output_type": "execute_result"
    },
    {
     "data": {
      "image/png": "[encoded data removed]",
      "text/plain": [
       "<Figure size 1080x360 with 1 Axes>"
      ]
     },
     "metadata": {
      "tags": []
     },
     "output_type": "display_data"
    }
   ],
   "source": [
    "# A distribution plot of chip times for males and females.\n",
    "f_fuko = df7.loc[df7[' Gender']==' F']['Runner_mins']\n",
    "m_fuko = df7.loc[df7[' Gender']==' M']['Runner_mins']\n",
    "sns.distplot(f_fuko, hist=True, kde=True, rug=False, hist_kws={'edgecolor':'black'}, label='Female')\n",
    "sns.distplot(m_fuko, hist=False, kde=True, rug=False, hist_kws={'edgecolor':'black'}, label='Male')\n",
    "plt.legend()"
   ]
  },
  {
   "cell_type": "code",
   "execution_count": 0,
   "metadata": {
    "colab": {
     "base_uri": "https://localhost:8080/",
     "height": 136
    },
    "colab_type": "code",
    "id": "0C3Vb1vYz6sq",
    "outputId": "f17f5f74-774f-4976-b2b4-2a98e0f5f2cf"
   },
   "outputs": [
    {
     "name": "stdout",
     "output_type": "stream",
     "text": [
      "        Runner_mins                         ...                                    \n",
      "              count        mean        std  ...         50%         75%         max\n",
      " Gender                                     ...                                    \n",
      " F            216.0  146.301389  26.047435  ...  144.725000  163.391667  237.250000\n",
      " M            118.0  126.692514  23.191045  ...  121.691667  139.041667  198.483333\n",
      "\n",
      "[2 rows x 8 columns]\n"
     ]
    }
   ],
   "source": [
    "# groupby() method is used to compute summary statistics for males and females\n",
    "g_stats = df7.groupby(\" Gender\", as_index=True).describe()\n",
    "print(g_stats)"
   ]
  },
  {
   "cell_type": "code",
   "execution_count": 0,
   "metadata": {
    "colab": {
     "base_uri": "https://localhost:8080/",
     "height": 365
    },
    "colab_type": "code",
    "id": "jvo4noI10BKk",
    "outputId": "9364857b-0ec1-49fc-aa1d-bd5ce2a2479f"
   },
   "outputs": [
    {
     "data": {
      "text/plain": [
       "Text(0.5, 0.98, '')"
      ]
     },
     "execution_count": 35,
     "metadata": {
      "tags": []
     },
     "output_type": "execute_result"
    },
    {
     "data": {
      "image/png": "[encoded data removed]",
      "text/plain": [
       "<Figure size 1080x360 with 1 Axes>"
      ]
     },
     "metadata": {
      "tags": []
     },
     "output_type": "display_data"
    }
   ],
   "source": [
    "# Side-by-side boxplot comparison of male and female finish times\n",
    "df7.boxplot(column='Runner_mins', by=' Gender')\n",
    "plt.ylabel('Chip Time')\n",
    "plt.suptitle(\"\")"
   ]
  },
  {
   "cell_type": "markdown",
   "metadata": {
    "colab_type": "text",
    "id": "p_q_Cw98ewnQ"
   },
   "source": [
    "**Conclusion :** In this practical, I've performed web scraping using Python by using Beautiful Soup library to parse html data and convert it into a form that can be used for analysis."
   ]
  }
 ],
 "metadata": {
  "colab": {
   "collapsed_sections": [],
   "name": "WebScraping.ipynb",
   "provenance": []
  },
  "kernelspec": {
   "display_name": "Python 3",
   "language": "python",
   "name": "python3"
  },
  "language_info": {
   "codemirror_mode": {
    "name": "ipython",
    "version": 3
   },
   "file_extension": ".py",
   "mimetype": "text/x-python",
   "name": "python",
   "nbconvert_exporter": "python",
   "pygments_lexer": "ipython3",
   "version": "3.6.5"
  }
 },
 "nbformat": 4,
 "nbformat_minor": 1
}
