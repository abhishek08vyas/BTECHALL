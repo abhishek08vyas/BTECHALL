{
 "cells": [
  {
   "cell_type": "markdown",
   "metadata": {},
   "source": [
    "# 16IT146 &emsp; &emsp;  &emsp;  &emsp;  &emsp;  &emsp;    IT441: Data Science"
   ]
  },
  {
   "cell_type": "markdown",
   "metadata": {},
   "source": [
    "## **Practical 3 :Data Preprocessing(crowdness at the Gym at GYM Dataset): Missing Values, Variance Filter, Correlation Filter, Random forest, PCA, ICA** "
   ]
  },
  {
   "cell_type": "code",
   "execution_count": 1,
   "metadata": {},
   "outputs": [],
   "source": [
    "import numpy as np # linear algebra\n",
    "import pandas as pd # data processing, CSV file I/O (e.g. pd.read_csv)\n",
    "import matplotlib.pyplot as plt\n",
    "import seaborn as sns\n",
    "%matplotlib inline"
   ]
  },
  {
   "cell_type": "code",
   "execution_count": 2,
   "metadata": {},
   "outputs": [
    {
     "data": {
      "text/html": [
       "<div>\n",
       "<style scoped>\n",
       "    .dataframe tbody tr th:only-of-type {\n",
       "        vertical-align: middle;\n",
       "    }\n",
       "\n",
       "    .dataframe tbody tr th {\n",
       "        vertical-align: top;\n",
       "    }\n",
       "\n",
       "    .dataframe thead th {\n",
       "        text-align: right;\n",
       "    }\n",
       "</style>\n",
       "<table border=\"1\" class=\"dataframe\">\n",
       "  <thead>\n",
       "    <tr style=\"text-align: right;\">\n",
       "      <th></th>\n",
       "      <th>number_people</th>\n",
       "      <th>timestamp</th>\n",
       "      <th>day_of_week</th>\n",
       "      <th>is_weekend</th>\n",
       "      <th>is_holiday</th>\n",
       "      <th>apparent_temperature</th>\n",
       "      <th>temperature</th>\n",
       "      <th>is_start_of_semester</th>\n",
       "    </tr>\n",
       "  </thead>\n",
       "  <tbody>\n",
       "    <tr>\n",
       "      <th>0</th>\n",
       "      <td>0</td>\n",
       "      <td>11</td>\n",
       "      <td>5</td>\n",
       "      <td>1</td>\n",
       "      <td>0</td>\n",
       "      <td>63.0</td>\n",
       "      <td>63.0</td>\n",
       "      <td>0</td>\n",
       "    </tr>\n",
       "    <tr>\n",
       "      <th>1</th>\n",
       "      <td>0</td>\n",
       "      <td>906</td>\n",
       "      <td>5</td>\n",
       "      <td>1</td>\n",
       "      <td>0</td>\n",
       "      <td>63.0</td>\n",
       "      <td>63.0</td>\n",
       "      <td>0</td>\n",
       "    </tr>\n",
       "    <tr>\n",
       "      <th>2</th>\n",
       "      <td>0</td>\n",
       "      <td>1207</td>\n",
       "      <td>5</td>\n",
       "      <td>1</td>\n",
       "      <td>0</td>\n",
       "      <td>63.0</td>\n",
       "      <td>63.0</td>\n",
       "      <td>0</td>\n",
       "    </tr>\n",
       "    <tr>\n",
       "      <th>3</th>\n",
       "      <td>0</td>\n",
       "      <td>1507</td>\n",
       "      <td>5</td>\n",
       "      <td>1</td>\n",
       "      <td>0</td>\n",
       "      <td>63.0</td>\n",
       "      <td>63.0</td>\n",
       "      <td>0</td>\n",
       "    </tr>\n",
       "    <tr>\n",
       "      <th>4</th>\n",
       "      <td>0</td>\n",
       "      <td>1808</td>\n",
       "      <td>5</td>\n",
       "      <td>1</td>\n",
       "      <td>0</td>\n",
       "      <td>63.0</td>\n",
       "      <td>63.0</td>\n",
       "      <td>0</td>\n",
       "    </tr>\n",
       "  </tbody>\n",
       "</table>\n",
       "</div>"
      ],
      "text/plain": [
       "   number_people  timestamp  day_of_week  is_weekend  is_holiday  \\\n",
       "0              0         11            5           1           0   \n",
       "1              0        906            5           1           0   \n",
       "2              0       1207            5           1           0   \n",
       "3              0       1507            5           1           0   \n",
       "4              0       1808            5           1           0   \n",
       "\n",
       "   apparent_temperature  temperature  is_start_of_semester  \n",
       "0                  63.0         63.0                     0  \n",
       "1                  63.0         63.0                     0  \n",
       "2                  63.0         63.0                     0  \n",
       "3                  63.0         63.0                     0  \n",
       "4                  63.0         63.0                     0  "
      ]
     },
     "execution_count": 2,
     "metadata": {},
     "output_type": "execute_result"
    }
   ],
   "source": [
    "df=pd.read_csv('data.csv') #Replace it with your path where the data file is stored\n",
    "df.head()"
   ]
  },
  {
   "cell_type": "code",
   "execution_count": 3,
   "metadata": {},
   "outputs": [
    {
     "data": {
      "text/html": [
       "<div>\n",
       "<style scoped>\n",
       "    .dataframe tbody tr th:only-of-type {\n",
       "        vertical-align: middle;\n",
       "    }\n",
       "\n",
       "    .dataframe tbody tr th {\n",
       "        vertical-align: top;\n",
       "    }\n",
       "\n",
       "    .dataframe thead th {\n",
       "        text-align: right;\n",
       "    }\n",
       "</style>\n",
       "<table border=\"1\" class=\"dataframe\">\n",
       "  <thead>\n",
       "    <tr style=\"text-align: right;\">\n",
       "      <th></th>\n",
       "      <th>number_people</th>\n",
       "      <th>timestamp</th>\n",
       "      <th>day_of_week</th>\n",
       "      <th>is_weekend</th>\n",
       "      <th>is_holiday</th>\n",
       "      <th>apparent_temperature</th>\n",
       "      <th>temperature</th>\n",
       "      <th>is_start_of_semester</th>\n",
       "    </tr>\n",
       "  </thead>\n",
       "  <tbody>\n",
       "    <tr>\n",
       "      <th>number_people</th>\n",
       "      <td>1.000000</td>\n",
       "      <td>0.516721</td>\n",
       "      <td>-0.198662</td>\n",
       "      <td>-0.212955</td>\n",
       "      <td>-0.023754</td>\n",
       "      <td>0.371589</td>\n",
       "      <td>0.365247</td>\n",
       "      <td>0.188743</td>\n",
       "    </tr>\n",
       "    <tr>\n",
       "      <th>timestamp</th>\n",
       "      <td>0.516721</td>\n",
       "      <td>1.000000</td>\n",
       "      <td>0.002188</td>\n",
       "      <td>0.005774</td>\n",
       "      <td>0.000015</td>\n",
       "      <td>0.135663</td>\n",
       "      <td>0.134209</td>\n",
       "      <td>-0.008029</td>\n",
       "    </tr>\n",
       "    <tr>\n",
       "      <th>day_of_week</th>\n",
       "      <td>-0.198662</td>\n",
       "      <td>0.002188</td>\n",
       "      <td>1.000000</td>\n",
       "      <td>0.795182</td>\n",
       "      <td>-0.090568</td>\n",
       "      <td>-0.011553</td>\n",
       "      <td>-0.011030</td>\n",
       "      <td>0.005801</td>\n",
       "    </tr>\n",
       "    <tr>\n",
       "      <th>is_weekend</th>\n",
       "      <td>-0.212955</td>\n",
       "      <td>0.005774</td>\n",
       "      <td>0.795182</td>\n",
       "      <td>1.000000</td>\n",
       "      <td>-0.069256</td>\n",
       "      <td>0.003095</td>\n",
       "      <td>0.003079</td>\n",
       "      <td>0.003434</td>\n",
       "    </tr>\n",
       "    <tr>\n",
       "      <th>is_holiday</th>\n",
       "      <td>-0.023754</td>\n",
       "      <td>0.000015</td>\n",
       "      <td>-0.090568</td>\n",
       "      <td>-0.069256</td>\n",
       "      <td>1.000000</td>\n",
       "      <td>-0.068055</td>\n",
       "      <td>-0.059206</td>\n",
       "      <td>0.083802</td>\n",
       "    </tr>\n",
       "    <tr>\n",
       "      <th>apparent_temperature</th>\n",
       "      <td>0.371589</td>\n",
       "      <td>0.135663</td>\n",
       "      <td>-0.011553</td>\n",
       "      <td>0.003095</td>\n",
       "      <td>-0.068055</td>\n",
       "      <td>1.000000</td>\n",
       "      <td>0.995839</td>\n",
       "      <td>0.092622</td>\n",
       "    </tr>\n",
       "    <tr>\n",
       "      <th>temperature</th>\n",
       "      <td>0.365247</td>\n",
       "      <td>0.134209</td>\n",
       "      <td>-0.011030</td>\n",
       "      <td>0.003079</td>\n",
       "      <td>-0.059206</td>\n",
       "      <td>0.995839</td>\n",
       "      <td>1.000000</td>\n",
       "      <td>0.092255</td>\n",
       "    </tr>\n",
       "    <tr>\n",
       "      <th>is_start_of_semester</th>\n",
       "      <td>0.188743</td>\n",
       "      <td>-0.008029</td>\n",
       "      <td>0.005801</td>\n",
       "      <td>0.003434</td>\n",
       "      <td>0.083802</td>\n",
       "      <td>0.092622</td>\n",
       "      <td>0.092255</td>\n",
       "      <td>1.000000</td>\n",
       "    </tr>\n",
       "  </tbody>\n",
       "</table>\n",
       "</div>"
      ],
      "text/plain": [
       "                      number_people  timestamp  day_of_week  is_weekend  \\\n",
       "number_people              1.000000   0.516721    -0.198662   -0.212955   \n",
       "timestamp                  0.516721   1.000000     0.002188    0.005774   \n",
       "day_of_week               -0.198662   0.002188     1.000000    0.795182   \n",
       "is_weekend                -0.212955   0.005774     0.795182    1.000000   \n",
       "is_holiday                -0.023754   0.000015    -0.090568   -0.069256   \n",
       "apparent_temperature       0.371589   0.135663    -0.011553    0.003095   \n",
       "temperature                0.365247   0.134209    -0.011030    0.003079   \n",
       "is_start_of_semester       0.188743  -0.008029     0.005801    0.003434   \n",
       "\n",
       "                      is_holiday  apparent_temperature  temperature  \\\n",
       "number_people          -0.023754              0.371589     0.365247   \n",
       "timestamp               0.000015              0.135663     0.134209   \n",
       "day_of_week            -0.090568             -0.011553    -0.011030   \n",
       "is_weekend             -0.069256              0.003095     0.003079   \n",
       "is_holiday              1.000000             -0.068055    -0.059206   \n",
       "apparent_temperature   -0.068055              1.000000     0.995839   \n",
       "temperature            -0.059206              0.995839     1.000000   \n",
       "is_start_of_semester    0.083802              0.092622     0.092255   \n",
       "\n",
       "                      is_start_of_semester  \n",
       "number_people                     0.188743  \n",
       "timestamp                        -0.008029  \n",
       "day_of_week                       0.005801  \n",
       "is_weekend                        0.003434  \n",
       "is_holiday                        0.083802  \n",
       "apparent_temperature              0.092622  \n",
       "temperature                       0.092255  \n",
       "is_start_of_semester              1.000000  "
      ]
     },
     "execution_count": 3,
     "metadata": {},
     "output_type": "execute_result"
    }
   ],
   "source": [
    "df.corr()"
   ]
  },
  {
   "cell_type": "code",
   "execution_count": 4,
   "metadata": {},
   "outputs": [
    {
     "data": {
      "text/plain": [
       "<matplotlib.collections.PathCollection at 0xb0dfbe0>"
      ]
     },
     "execution_count": 4,
     "metadata": {},
     "output_type": "execute_result"
    },
    {
     "data": {
      "image/png": "[encoded data removed]",
      "text/plain": [
       "<Figure size 432x288 with 1 Axes>"
      ]
     },
     "metadata": {},
     "output_type": "display_data"
    }
   ],
   "source": [
    "x=df['temperature']\n",
    "y=df['apparent_temperature']\n",
    "colors=('r','b')\n",
    "plt.xlabel('Temperature')\n",
    "plt.ylabel('Apparent_temperature')\n",
    "plt.scatter(x,y,c=colors)"
   ]
  },
  {
   "cell_type": "code",
   "execution_count": 5,
   "metadata": {},
   "outputs": [
    {
     "data": {
      "text/html": [
       "<div>\n",
       "<style scoped>\n",
       "    .dataframe tbody tr th:only-of-type {\n",
       "        vertical-align: middle;\n",
       "    }\n",
       "\n",
       "    .dataframe tbody tr th {\n",
       "        vertical-align: top;\n",
       "    }\n",
       "\n",
       "    .dataframe thead th {\n",
       "        text-align: right;\n",
       "    }\n",
       "</style>\n",
       "<table border=\"1\" class=\"dataframe\">\n",
       "  <thead>\n",
       "    <tr style=\"text-align: right;\">\n",
       "      <th></th>\n",
       "      <th>number_people</th>\n",
       "      <th>timestamp</th>\n",
       "      <th>day_of_week</th>\n",
       "      <th>is_weekend</th>\n",
       "      <th>is_holiday</th>\n",
       "      <th>apparent_temperature</th>\n",
       "      <th>temperature</th>\n",
       "      <th>is_start_of_semester</th>\n",
       "    </tr>\n",
       "  </thead>\n",
       "  <tbody>\n",
       "    <tr>\n",
       "      <th>0</th>\n",
       "      <td>0</td>\n",
       "      <td>11</td>\n",
       "      <td>5</td>\n",
       "      <td>1</td>\n",
       "      <td>0</td>\n",
       "      <td>63.0</td>\n",
       "      <td>17.222222</td>\n",
       "      <td>0</td>\n",
       "    </tr>\n",
       "    <tr>\n",
       "      <th>1</th>\n",
       "      <td>0</td>\n",
       "      <td>906</td>\n",
       "      <td>5</td>\n",
       "      <td>1</td>\n",
       "      <td>0</td>\n",
       "      <td>63.0</td>\n",
       "      <td>17.222222</td>\n",
       "      <td>0</td>\n",
       "    </tr>\n",
       "    <tr>\n",
       "      <th>2</th>\n",
       "      <td>0</td>\n",
       "      <td>1207</td>\n",
       "      <td>5</td>\n",
       "      <td>1</td>\n",
       "      <td>0</td>\n",
       "      <td>63.0</td>\n",
       "      <td>17.222222</td>\n",
       "      <td>0</td>\n",
       "    </tr>\n",
       "    <tr>\n",
       "      <th>3</th>\n",
       "      <td>0</td>\n",
       "      <td>1507</td>\n",
       "      <td>5</td>\n",
       "      <td>1</td>\n",
       "      <td>0</td>\n",
       "      <td>63.0</td>\n",
       "      <td>17.222222</td>\n",
       "      <td>0</td>\n",
       "    </tr>\n",
       "    <tr>\n",
       "      <th>4</th>\n",
       "      <td>0</td>\n",
       "      <td>1808</td>\n",
       "      <td>5</td>\n",
       "      <td>1</td>\n",
       "      <td>0</td>\n",
       "      <td>63.0</td>\n",
       "      <td>17.222222</td>\n",
       "      <td>0</td>\n",
       "    </tr>\n",
       "  </tbody>\n",
       "</table>\n",
       "</div>"
      ],
      "text/plain": [
       "   number_people  timestamp  day_of_week  is_weekend  is_holiday  \\\n",
       "0              0         11            5           1           0   \n",
       "1              0        906            5           1           0   \n",
       "2              0       1207            5           1           0   \n",
       "3              0       1507            5           1           0   \n",
       "4              0       1808            5           1           0   \n",
       "\n",
       "   apparent_temperature  temperature  is_start_of_semester  \n",
       "0                  63.0    17.222222                     0  \n",
       "1                  63.0    17.222222                     0  \n",
       "2                  63.0    17.222222                     0  \n",
       "3                  63.0    17.222222                     0  \n",
       "4                  63.0    17.222222                     0  "
      ]
     },
     "execution_count": 5,
     "metadata": {},
     "output_type": "execute_result"
    }
   ],
   "source": [
    "Fahrenheit=df['temperature']\n",
    "F=Fahrenheit.tolist()\n",
    "C= map(lambda x: (float(5)/9)*(x-32),F)\n",
    "Celsius=(list(C))\n",
    "temperature_celsius=pd.Series(Celsius)\n",
    "df['temperature']= temperature_celsius\n",
    "df['temperature']\n",
    "df.head()"
   ]
  },
  {
   "cell_type": "code",
   "execution_count": 6,
   "metadata": {},
   "outputs": [
    {
     "data": {
      "text/plain": [
       "Series([], dtype: float64)"
      ]
     },
     "execution_count": 6,
     "metadata": {},
     "output_type": "execute_result"
    }
   ],
   "source": [
    "at_fahrenheit=df['apparent_temperature']\n",
    "at_F=at_fahrenheit.tolist()\n",
    "at_C= map(lambda x: (float(5)/9)*(x-32),at_F)\n",
    "at_Celsius=(list(C))\n",
    "at_celsius=pd.Series(at_Celsius)\n",
    "at_celsius"
   ]
  },
  {
   "cell_type": "code",
   "execution_count": 7,
   "metadata": {},
   "outputs": [
    {
     "name": "stdout",
     "output_type": "stream",
     "text": [
      "Series([], dtype: float64)\n"
     ]
    }
   ],
   "source": [
    "apparent_temperature_celsius=pd.Series(at_Celsius)\n",
    "print(apparent_temperature_celsius)"
   ]
  },
  {
   "cell_type": "code",
   "execution_count": 8,
   "metadata": {},
   "outputs": [
    {
     "data": {
      "text/html": [
       "<div>\n",
       "<style scoped>\n",
       "    .dataframe tbody tr th:only-of-type {\n",
       "        vertical-align: middle;\n",
       "    }\n",
       "\n",
       "    .dataframe tbody tr th {\n",
       "        vertical-align: top;\n",
       "    }\n",
       "\n",
       "    .dataframe thead th {\n",
       "        text-align: right;\n",
       "    }\n",
       "</style>\n",
       "<table border=\"1\" class=\"dataframe\">\n",
       "  <thead>\n",
       "    <tr style=\"text-align: right;\">\n",
       "      <th></th>\n",
       "      <th>number_people</th>\n",
       "      <th>timestamp</th>\n",
       "      <th>day_of_week</th>\n",
       "      <th>is_weekend</th>\n",
       "      <th>is_holiday</th>\n",
       "      <th>apparent_temperature</th>\n",
       "      <th>temperature</th>\n",
       "      <th>is_start_of_semester</th>\n",
       "    </tr>\n",
       "  </thead>\n",
       "  <tbody>\n",
       "    <tr>\n",
       "      <th>0</th>\n",
       "      <td>0</td>\n",
       "      <td>11</td>\n",
       "      <td>5</td>\n",
       "      <td>1</td>\n",
       "      <td>0</td>\n",
       "      <td>17.222222</td>\n",
       "      <td>17.222222</td>\n",
       "      <td>0</td>\n",
       "    </tr>\n",
       "    <tr>\n",
       "      <th>1</th>\n",
       "      <td>0</td>\n",
       "      <td>906</td>\n",
       "      <td>5</td>\n",
       "      <td>1</td>\n",
       "      <td>0</td>\n",
       "      <td>17.222222</td>\n",
       "      <td>17.222222</td>\n",
       "      <td>0</td>\n",
       "    </tr>\n",
       "    <tr>\n",
       "      <th>2</th>\n",
       "      <td>0</td>\n",
       "      <td>1207</td>\n",
       "      <td>5</td>\n",
       "      <td>1</td>\n",
       "      <td>0</td>\n",
       "      <td>17.222222</td>\n",
       "      <td>17.222222</td>\n",
       "      <td>0</td>\n",
       "    </tr>\n",
       "    <tr>\n",
       "      <th>3</th>\n",
       "      <td>0</td>\n",
       "      <td>1507</td>\n",
       "      <td>5</td>\n",
       "      <td>1</td>\n",
       "      <td>0</td>\n",
       "      <td>17.222222</td>\n",
       "      <td>17.222222</td>\n",
       "      <td>0</td>\n",
       "    </tr>\n",
       "    <tr>\n",
       "      <th>4</th>\n",
       "      <td>0</td>\n",
       "      <td>1808</td>\n",
       "      <td>5</td>\n",
       "      <td>1</td>\n",
       "      <td>0</td>\n",
       "      <td>17.222222</td>\n",
       "      <td>17.222222</td>\n",
       "      <td>0</td>\n",
       "    </tr>\n",
       "  </tbody>\n",
       "</table>\n",
       "</div>"
      ],
      "text/plain": [
       "   number_people  timestamp  day_of_week  is_weekend  is_holiday  \\\n",
       "0              0         11            5           1           0   \n",
       "1              0        906            5           1           0   \n",
       "2              0       1207            5           1           0   \n",
       "3              0       1507            5           1           0   \n",
       "4              0       1808            5           1           0   \n",
       "\n",
       "   apparent_temperature  temperature  is_start_of_semester  \n",
       "0             17.222222    17.222222                     0  \n",
       "1             17.222222    17.222222                     0  \n",
       "2             17.222222    17.222222                     0  \n",
       "3             17.222222    17.222222                     0  \n",
       "4             17.222222    17.222222                     0  "
      ]
     },
     "execution_count": 8,
     "metadata": {},
     "output_type": "execute_result"
    }
   ],
   "source": [
    "df['apparent_temperature']= temperature_celsius\n",
    "df['apparent_temperature']\n",
    "df.head()"
   ]
  },
  {
   "cell_type": "code",
   "execution_count": 9,
   "metadata": {},
   "outputs": [],
   "source": [
    "X = df.iloc[:,1:8]  # all rows, all the features and no labels\n",
    "y = df.iloc[:, 0]  # all rows, label only"
   ]
  },
  {
   "cell_type": "code",
   "execution_count": 16,
   "metadata": {},
   "outputs": [
    {
     "data": {
      "text/plain": [
       "array([[1, 0, 0, ..., 360.0, 1.0, 'Urban'],\n",
       "       [1, 1, 1, ..., 360.0, 1.0, 'Rural'],\n",
       "       [1, 1, 3, ..., 360.0, 1.0, 'Urban'],\n",
       "       ...,\n",
       "       [1, 1, 491, ..., 360.0, 1.0, 'Urban'],\n",
       "       [1, 1, 492, ..., 360.0, 1.0, 'Urban'],\n",
       "       [0, 0, 493, ..., 360.0, 0.0, 'Semiurban']], dtype=object)"
      ]
     },
     "execution_count": 16,
     "metadata": {},
     "output_type": "execute_result"
    }
   ],
   "source": [
    "# Encoding categorical data\n",
    "# Encoding the Independent Variable\n",
    "from sklearn.preprocessing import LabelEncoder, OneHotEncoder\n",
    "labelencoder_X = LabelEncoder()\n",
    "for i in range(0, 4):\n",
    "    X_train[:,i] = labelencoder_X.fit_transform(X_train[:,i])"
   ]
  },
  {
   "cell_type": "markdown",
   "metadata": {},
   "source": [
    "# ** Applying PCA**"
   ]
  },
  {
   "cell_type": "code",
   "execution_count": 10,
   "metadata": {},
   "outputs": [
    {
     "name": "stderr",
     "output_type": "stream",
     "text": [
      "C:\\Users\\abhishek\\Anaconda3\\lib\\site-packages\\sklearn\\preprocessing\\data.py:625: DataConversionWarning: Data with input dtype int64, float64 were all converted to float64 by StandardScaler.\n",
      "  return self.partial_fit(X, y)\n",
      "C:\\Users\\abhishek\\Anaconda3\\lib\\site-packages\\sklearn\\base.py:462: DataConversionWarning: Data with input dtype int64, float64 were all converted to float64 by StandardScaler.\n",
      "  return self.fit(X, **fit_params).transform(X)\n"
     ]
    },
    {
     "data": {
      "text/plain": [
       "array([[-2.19905457,  0.98915621,  1.55803784, ...,  0.57637532,\n",
       "         0.57637532, -0.33364584],\n",
       "       [-2.15922689,  0.98915621,  1.55803784, ...,  0.57637532,\n",
       "         0.57637532, -0.33364584],\n",
       "       [-2.14583233,  0.98915621,  1.55803784, ...,  0.57637532,\n",
       "         0.57637532, -0.33364584],\n",
       "       ...,\n",
       "       [ 0.10561101, -1.50425286, -0.64183293, ...,  0.57637532,\n",
       "         0.57637532, -0.33364584],\n",
       "       [ 0.5185284 , -1.50425286, -0.64183293, ...,  0.43526657,\n",
       "         0.43526657, -0.33364584],\n",
       "       [ 0.53183397, -1.50425286, -0.64183293, ...,  0.43526657,\n",
       "         0.43526657, -0.33364584]])"
      ]
     },
     "execution_count": 10,
     "metadata": {},
     "output_type": "execute_result"
    }
   ],
   "source": [
    "# Scale the data to be between -1 and 1\n",
    "from sklearn.preprocessing import StandardScaler\n",
    "scaler = StandardScaler()\n",
    "X=scaler.fit_transform(X)\n",
    "X"
   ]
  },
  {
   "cell_type": "code",
   "execution_count": 11,
   "metadata": {},
   "outputs": [
    {
     "data": {
      "text/plain": [
       "array([[ 3.95611764e-01, -1.78081261e+00,  1.02236289e-01, ...,\n",
       "         1.17716664e+00, -3.94275737e-01, -1.28620541e-16],\n",
       "       [ 4.02568127e-01, -1.78093924e+00,  9.77413362e-02, ...,\n",
       "         1.16422304e+00, -3.94238582e-01, -1.74481918e-16],\n",
       "       [ 4.04907641e-01, -1.78098182e+00,  9.62296257e-02, ...,\n",
       "         1.15986994e+00, -3.94226086e-01, -6.16006844e-17],\n",
       "       ...,\n",
       "       [ 7.77050910e-01,  1.49879167e+00, -4.86264267e-01, ...,\n",
       "         1.39776045e-01, -6.04737810e-01,  2.07479466e-17],\n",
       "       [ 6.54495059e-01,  1.49425867e+00, -5.29308255e-01, ...,\n",
       "        -3.03595421e-02, -6.06178650e-01, -2.63591835e-17],\n",
       "       [ 6.56819029e-01,  1.49421637e+00, -5.30809921e-01, ...,\n",
       "        -3.46837172e-02, -6.06166237e-01,  1.36320501e-17]])"
      ]
     },
     "execution_count": 11,
     "metadata": {},
     "output_type": "execute_result"
    }
   ],
   "source": [
    "from sklearn.decomposition import PCA\n",
    "pca = PCA()\n",
    "pca.fit_transform(X)"
   ]
  },
  {
   "cell_type": "code",
   "execution_count": 12,
   "metadata": {},
   "outputs": [
    {
     "data": {
      "text/plain": [
       "array([[ 1.00003837e+00,  2.18847717e-03,  5.77387502e-03,\n",
       "         1.50149876e-05,  1.34214105e-01,  1.34214105e-01,\n",
       "        -8.02916199e-03],\n",
       "       [ 2.18847717e-03,  1.00003837e+00,  7.95212311e-01,\n",
       "        -9.05719378e-02, -1.10306712e-02, -1.10306712e-02,\n",
       "         5.80085557e-03],\n",
       "       [ 5.77387502e-03,  7.95212311e-01,  1.00003837e+00,\n",
       "        -6.92589313e-02,  3.07870155e-03,  3.07870155e-03,\n",
       "         3.43424204e-03],\n",
       "       [ 1.50149876e-05, -9.05719378e-02, -6.92589313e-02,\n",
       "         1.00003837e+00, -5.92082493e-02, -5.92082493e-02,\n",
       "         8.38049190e-02],\n",
       "       [ 1.34214105e-01, -1.10306712e-02,  3.07870155e-03,\n",
       "        -5.92082493e-02,  1.00003837e+00,  1.00003837e+00,\n",
       "         9.22584738e-02],\n",
       "       [ 1.34214105e-01, -1.10306712e-02,  3.07870155e-03,\n",
       "        -5.92082493e-02,  1.00003837e+00,  1.00003837e+00,\n",
       "         9.22584738e-02],\n",
       "       [-8.02916199e-03,  5.80085557e-03,  3.43424204e-03,\n",
       "         8.38049190e-02,  9.22584738e-02,  9.22584738e-02,\n",
       "         1.00003837e+00]])"
      ]
     },
     "execution_count": 12,
     "metadata": {},
     "output_type": "execute_result"
    }
   ],
   "source": [
    "pca.get_covariance()"
   ]
  },
  {
   "cell_type": "code",
   "execution_count": 13,
   "metadata": {},
   "outputs": [
    {
     "data": {
      "text/plain": [
       "array([2.93596458e-01, 2.58705412e-01, 1.53764974e-01, 1.39472742e-01,\n",
       "       1.25265477e-01, 2.91949375e-02, 5.90961160e-34])"
      ]
     },
     "execution_count": 13,
     "metadata": {},
     "output_type": "execute_result"
    }
   ],
   "source": [
    "explained_variance=pca.explained_variance_ratio_\n",
    "explained_variance"
   ]
  },
  {
   "cell_type": "code",
   "execution_count": 14,
   "metadata": {},
   "outputs": [
    {
     "data": {
      "text/plain": [
       "array([[ 0.39561176, -1.78081261,  0.10223629, -2.03708214,  1.17716664],\n",
       "       [ 0.40256813, -1.78093924,  0.09774134, -2.0003385 ,  1.16422304],\n",
       "       [ 0.40490764, -1.78098182,  0.09622963, -1.98798115,  1.15986994],\n",
       "       ...,\n",
       "       [ 0.77705091,  1.49879167, -0.48626427, -0.03710784,  0.13977604],\n",
       "       [ 0.65449506,  1.49425867, -0.52930826,  0.36845679, -0.03035954],\n",
       "       [ 0.65681903,  1.49421637, -0.53080992,  0.38073204, -0.03468372]])"
      ]
     },
     "execution_count": 14,
     "metadata": {},
     "output_type": "execute_result"
    }
   ],
   "source": [
    "pca=PCA(n_components=5)\n",
    "X_new=pca.fit_transform(X)\n",
    "X_new"
   ]
  },
  {
   "cell_type": "code",
   "execution_count": 15,
   "metadata": {},
   "outputs": [
    {
     "data": {
      "text/plain": [
       "array([[ 1.00003828e+00,  2.12098400e-03,  5.84116075e-03,\n",
       "         1.30391070e-05,  1.34213488e-01,  1.34213488e-01,\n",
       "        -8.02861009e-03],\n",
       "       [ 2.12098400e-03,  9.48816063e-01,  8.46277185e-01,\n",
       "        -9.20714845e-02, -1.14987882e-02, -1.14987882e-02,\n",
       "         6.21970851e-03],\n",
       "       [ 5.84116075e-03,  8.46277185e-01,  9.49130436e-01,\n",
       "        -6.77639933e-02,  3.54537976e-03,  3.54537976e-03,\n",
       "         3.01667641e-03],\n",
       "       [ 1.30391070e-05, -9.20714845e-02, -6.77639933e-02,\n",
       "         9.99994466e-01, -5.92219535e-02, -5.92219535e-02,\n",
       "         8.38171810e-02],\n",
       "       [ 1.34213488e-01, -1.14987882e-02,  3.54537976e-03,\n",
       "        -5.92219535e-02,  1.05112719e+00,  9.48940987e-01,\n",
       "         9.22623017e-02],\n",
       "       [ 1.34213488e-01, -1.14987882e-02,  3.54537976e-03,\n",
       "        -5.92219535e-02,  9.48940987e-01,  1.05112719e+00,\n",
       "         9.22623017e-02],\n",
       "       [-8.02861009e-03,  6.21970851e-03,  3.01667641e-03,\n",
       "         8.38171810e-02,  9.22623017e-02,  9.22623017e-02,\n",
       "         1.00003494e+00]])"
      ]
     },
     "execution_count": 15,
     "metadata": {},
     "output_type": "execute_result"
    }
   ],
   "source": [
    "pca.get_covariance()"
   ]
  },
  {
   "cell_type": "code",
   "execution_count": 16,
   "metadata": {},
   "outputs": [
    {
     "data": {
      "text/plain": [
       "array([0.29359646, 0.25870541, 0.15376497, 0.13947274, 0.12526548])"
      ]
     },
     "execution_count": 16,
     "metadata": {},
     "output_type": "execute_result"
    }
   ],
   "source": [
    "explained_variance=pca.explained_variance_ratio_\n",
    "explained_variance"
   ]
  },
  {
   "cell_type": "code",
   "execution_count": 17,
   "metadata": {},
   "outputs": [
    {
     "data": {
      "text/plain": [
       "(20852, 7)"
      ]
     },
     "execution_count": 17,
     "metadata": {},
     "output_type": "execute_result"
    }
   ],
   "source": [
    "from sklearn.model_selection import train_test_split\n",
    "X_train, X_test, y_train, y_test = train_test_split(X, y, test_size=0.2, random_state=1)\n",
    "X_train.shape"
   ]
  },
  {
   "cell_type": "markdown",
   "metadata": {},
   "source": [
    "**Random** **Forest**"
   ]
  },
  {
   "cell_type": "code",
   "execution_count": 18,
   "metadata": {},
   "outputs": [],
   "source": [
    "# Establish model\n",
    "from sklearn.ensemble import RandomForestRegressor\n",
    "model = RandomForestRegressor()"
   ]
  },
  {
   "cell_type": "code",
   "execution_count": 20,
   "metadata": {},
   "outputs": [
    {
     "name": "stdout",
     "output_type": "stream",
     "text": [
      "[0.8552260645962537, 0.8678052619361432, 0.8693985790238696, 0.8690819423461404, 0.8704181172013887, 0.8725863980161301, 0.8718128289573565, 0.8725241223424407, 0.8718121830366408, 0.8726643689824797, 0.8742796303177602, 0.8735925976933141, 0.8733742593569955, 0.8727518801635978, 0.8736656650482865, 0.8745957020076269, 0.8732855819892373, 0.8745550194484808, 0.8735772679043736]\n"
     ]
    }
   ],
   "source": [
    "# Try different numbers of n_estimators - this will take a minute or so\n",
    "estimators = np.arange(10, 200, 10)\n",
    "scores = []\n",
    "for n in estimators:\n",
    "    model.set_params(n_estimators=n)\n",
    "    model.fit(X_train, y_train)\n",
    "    scores.append(model.score(X_test, y_test))\n",
    "print(scores)  "
   ]
  },
  {
   "cell_type": "code",
   "execution_count": 21,
   "metadata": {},
   "outputs": [
    {
     "data": {
      "text/plain": [
       "[<matplotlib.lines.Line2D at 0xc03dba8>]"
      ]
     },
     "execution_count": 21,
     "metadata": {},
     "output_type": "execute_result"
    },
    {
     "data": {
      "image/png": "[encoded data removed]",
      "text/plain": [
       "<Figure size 432x288 with 1 Axes>"
      ]
     },
     "metadata": {},
     "output_type": "display_data"
    }
   ],
   "source": [
    "plt.title(\"Effect of n_estimators\")\n",
    "plt.xlabel(\"n_estimator\")\n",
    "plt.ylabel(\"score\")\n",
    "plt.plot(estimators, scores)"
   ]
  },
  {
   "cell_type": "code",
   "execution_count": 22,
   "metadata": {},
   "outputs": [
    {
     "data": {
      "text/plain": [
       "(20852, 5)"
      ]
     },
     "execution_count": 22,
     "metadata": {},
     "output_type": "execute_result"
    }
   ],
   "source": [
    "from sklearn.model_selection import train_test_split\n",
    "X_train, X_test, y_train, y_test = train_test_split(X_new, y, test_size=0.2, random_state=1)\n",
    "X_train.shape"
   ]
  },
  {
   "cell_type": "code",
   "execution_count": 23,
   "metadata": {},
   "outputs": [],
   "source": [
    "# Establish model\n",
    "from sklearn.ensemble import RandomForestRegressor\n",
    "model = RandomForestRegressor()"
   ]
  },
  {
   "cell_type": "code",
   "execution_count": 24,
   "metadata": {},
   "outputs": [
    {
     "name": "stdout",
     "output_type": "stream",
     "text": [
      "[0.8039600990875807, 0.8146312349700945, 0.8169260920543113, 0.81807425159499, 0.8179701005459696, 0.8192898731714059, 0.8201598128555196, 0.82009590257829, 0.8197794437456177, 0.8198982729607751, 0.8193324173806913, 0.8212366437945917, 0.8206300416441097, 0.8202916406598408, 0.8207362664059309, 0.820241486561452, 0.8217046456544191, 0.8215732246302467, 0.8215505276809292]\n"
     ]
    }
   ],
   "source": [
    "# Try different numbers of n_estimators - this will take a minute or so\n",
    "estimators = np.arange(10, 200, 10)\n",
    "scores = []\n",
    "for n in estimators:\n",
    "    model.set_params(n_estimators=n)\n",
    "    model.fit(X_train, y_train)\n",
    "    scores.append(model.score(X_test, y_test))\n",
    "print(scores) "
   ]
  },
  {
   "cell_type": "code",
   "execution_count": 25,
   "metadata": {},
   "outputs": [
    {
     "data": {
      "text/plain": [
       "[<matplotlib.lines.Line2D at 0x1c82f0b8>]"
      ]
     },
     "execution_count": 25,
     "metadata": {},
     "output_type": "execute_result"
    },
    {
     "data": {
      "image/png": "[encoded data removed]",
      "text/plain": [
       "<Figure size 432x288 with 1 Axes>"
      ]
     },
     "metadata": {},
     "output_type": "display_data"
    }
   ],
   "source": [
    "plt.title(\"Effect of n_estimators\")\n",
    "plt.xlabel(\"n_estimator\")\n",
    "plt.ylabel(\"score\")\n",
    "plt.plot(estimators, scores)"
   ]
  },
  {
   "cell_type": "markdown",
   "metadata": {},
   "source": [
    "**Conclusion :** In this practical, I've performed data pre-processing techniques like filters, PCA and random forest on crowdness at the Gym data ."
   ]
  }
 ],
 "metadata": {
  "kernelspec": {
   "display_name": "Python 3",
   "language": "python",
   "name": "python3"
  },
  "language_info": {
   "codemirror_mode": {
    "name": "ipython",
    "version": 3
   },
   "file_extension": ".py",
   "mimetype": "text/x-python",
   "name": "python",
   "nbconvert_exporter": "python",
   "pygments_lexer": "ipython3",
   "version": "3.6.5"
  }
 },
 "nbformat": 4,
 "nbformat_minor": 2
}
